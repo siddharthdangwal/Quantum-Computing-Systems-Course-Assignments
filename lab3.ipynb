{
 "cells": [
  {
   "cell_type": "markdown",
   "metadata": {},
   "source": [
    "Before you turn this lab in, make sure everything runs as expected. **Restart and run all cells** (in the menubar, select Kernel$\\rightarrow$Restart & Run All) then check the output is as expected and there are no errors.  Also remember to **Save** before uploading this file (File$\\rightarrow$Save and Checkpoint)."
   ]
  },
  {
   "cell_type": "markdown",
   "metadata": {},
   "source": [
    "---"
   ]
  },
  {
   "cell_type": "markdown",
   "metadata": {},
   "source": [
    "# <div align=\"center\">Quantum Computer Systems Design</div>&nbsp;  <div align=\"center\">Lab 3</div>\n",
    "\n",
    "### 1. Quantum Teleportation\n",
    "In the videos, we constructed a circuit that can teleport any arbitrary qubit state $|\\psi\\rangle$, by concatenating an X-type and a Z-type swap circuit together. When Alice and Bob are long distance apart, multi-qubit gates between them are not allowed. We have to commute the forbidden CNOT in the circuit all the way to the left, as shown below:\n",
    "\n",
    "<img src=\"teleport-marked.png\">\n",
    "\n",
    "The end result is that if they share a Bell state ($|\\phi\\rangle = |00\\rangle+|11\\rangle$) as resource prepared in adavance, then they can teleport $|\\psi\\rangle$ with only local gates and classical communications.\n",
    "\n",
    "#### 1.1 Another teleportation circuit\n",
    "Now the task consists of four steps:\n",
    "1. Construct a different teleportation circuit by concatenating Z-type swap circuit first and X-type swap circuit second;\n",
    "2. Commute any forbidden long-distance gates to the left and write down the resource state ($|\\phi\\rangle$) needed this time below, in the form of a state vector. For example, `phi = np.array([0, 1, 0, 0])` for $|\\phi\\rangle = |10\\rangle$;\n",
    "3. Implement the quantum circuit in Qiskit below.\n",
    "4. (Optional) Test with at least two different initial states.\n",
    "\n",
    "<img src=\"teleport-marked2.png\">"
   ]
  },
  {
   "cell_type": "markdown",
   "metadata": {},
   "source": [
    "##### 1.1.1 Resource state\n",
    "\n",
    "After following steps 1 and 2 above, enter the state vector of the two-qubit state that is prepared in advance."
   ]
  },
  {
   "cell_type": "code",
   "execution_count": 1,
   "metadata": {
    "deletable": false,
    "nbgrader": {
     "cell_type": "code",
     "checksum": "9f82a1442d9454183c3eef5b250485ce",
     "grade": false,
     "grade_id": "1-1-1",
     "locked": false,
     "schema_version": 3,
     "solution": true,
     "task": false
    }
   },
   "outputs": [
    {
     "name": "stdout",
     "output_type": "stream",
     "text": [
      "array([0.70710678, 0.        , 0.        , 0.70710678])\n"
     ]
    }
   ],
   "source": [
    "import numpy as np\n",
    "\n",
    "# Write your quantum state here\n",
    "phi = np.array([\n",
    "    # YOUR CODE HERE\n",
    "    np.sqrt(1/2), 0, 0,np.sqrt(1/2) \n",
    "    \n",
    "])\n",
    "print(repr(phi))"
   ]
  },
  {
   "cell_type": "code",
   "execution_count": 2,
   "metadata": {
    "deletable": false,
    "editable": false,
    "nbgrader": {
     "cell_type": "code",
     "checksum": "9d28de213039a721495005ef0405892d",
     "grade": true,
     "grade_id": "1-1-1-test",
     "locked": true,
     "points": 10,
     "schema_version": 3,
     "solution": false,
     "task": false
    }
   },
   "outputs": [],
   "source": [
    "# Do not delete this cell\n",
    "# The autograder will test the value stored in `phi`\n",
    "assert phi.shape == (4,), 'phi must be a 1D numpy array with 4 entries'\n",
    "assert np.isclose(np.linalg.norm(phi), 1), (\n",
    "    'The phi vector must be normalized')"
   ]
  },
  {
   "cell_type": "markdown",
   "metadata": {},
   "source": [
    "##### 1.1.2 Teleporting from Alice to Bob\n",
    "\n",
    "Construct each part of the quantum circuit in the functions below."
   ]
  },
  {
   "cell_type": "code",
   "execution_count": 3,
   "metadata": {
    "deletable": false,
    "nbgrader": {
     "cell_type": "code",
     "checksum": "db280f6e47d1918f4d22179459886160",
     "grade": false,
     "grade_id": "1-1-2",
     "locked": false,
     "schema_version": 3,
     "solution": true,
     "task": false
    }
   },
   "outputs": [],
   "source": [
    "from qiskit import QuantumCircuit, ClassicalRegister, QuantumRegister, execute\n",
    "from qiskit.circuit.quantumregister import Qubit\n",
    "from qiskit.tools.visualization import circuit_drawer\n",
    "from qiskit.quantum_info import state_fidelity\n",
    "from qiskit import BasicAer\n",
    "\n",
    "def initial_state(qc:QuantumCircuit, a:Qubit):\n",
    "    # prepare a quantum state to teleport on qubit a\n",
    "    qc.ry(np.pi/8, a)\n",
    "\n",
    "def test_by_inverse(qc, a):\n",
    "    # Implements the inverse of initial_state\n",
    "    qc.ry(-np.pi/8, a)\n",
    "\n",
    "def resource_state(qc:QuantumCircuit, b:Qubit, c:Qubit):\n",
    "    # Implement your resource state on qubit b and c to be distributed to alice and bob.\n",
    "    # YOUR CODE HERE\n",
    "    ...\n",
    "    qc.h(c)\n",
    "    qc.cx(c, b)\n",
    "\n",
    "def alice(qc:QuantumCircuit, a:Qubit, b:Qubit, x:ClassicalRegister, y:ClassicalRegister):\n",
    "    # Alice's quantum circuit on qubit a and b, with measurements stored to x and y.\n",
    "    # YOUR CODE HERE\n",
    "    ...\n",
    "    qc.cx(a, b)\n",
    "    qc.h(a)\n",
    "    qc.measure(a, x)\n",
    "    qc.measure(b, y)\n",
    "    \n",
    "def bob(qc:QuantumCircuit, c:Qubit, x:ClassicalRegister, y:ClassicalRegister):\n",
    "    # Bob's quantum circuit on qubit c, and two classical bits x and y.\n",
    "    # See the documentation for `c_if`\n",
    "    # YOUR CODE HERE\n",
    "    ...\n",
    "    qc.z(c).c_if(x, 1)\n",
    "    qc.x(c).c_if(y, 1)"
   ]
  },
  {
   "cell_type": "markdown",
   "metadata": {},
   "source": [
    "You may test the above implementation now with the following code."
   ]
  },
  {
   "cell_type": "code",
   "execution_count": 4,
   "metadata": {},
   "outputs": [
    {
     "name": "stdout",
     "output_type": "stream",
     "text": [
      "                    ░ ┌─────────┐ ░      ┌───┐┌─┐ ░                ░ \n",
      "alice_0: ───────────░─┤ Ry(π/8) ├─░───■──┤ H ├┤M├─░────────────────░─\n",
      "              ┌───┐ ░ └─────────┘ ░ ┌─┴─┐└┬─┬┘└╥┘ ░                ░ \n",
      "alice_1: ─────┤ X ├─░─────────────░─┤ X ├─┤M├──╫──░────────────────░─\n",
      "         ┌───┐└─┬─┘ ░             ░ └───┘ └╥┘  ║  ░  ┌───┐  ┌───┐  ░ \n",
      "    bob: ┤ H ├──■───░─────────────░────────╫───╫──░──┤ Z ├──┤ X ├──░─\n",
      "         └───┘      ░             ░        ║   ║  ░  └─╥─┘  └─╥─┘  ░ \n",
      "                                           ║   ║    ┌──╨──┐   ║      \n",
      "   c1: 1/══════════════════════════════════╬═══╩════╡ 0x1 ╞═══╬══════\n",
      "                                           ║   0    └─────┘┌──╨──┐   \n",
      "   c2: 1/══════════════════════════════════╩═══════════════╡ 0x1 ╞═══\n",
      "                                           0               └─────┘   \n"
     ]
    },
    {
     "data": {
      "text/plain": [
       "{'0 0 0': 249, '0 1 1': 261, '0 0 1': 262, '0 1 0': 252}"
      ]
     },
     "execution_count": 4,
     "metadata": {},
     "output_type": "execute_result"
    }
   ],
   "source": [
    "# You may modify (or delete) this cell or add new cells\n",
    "\n",
    "# Initialize circuit with three qubits and two classical bits.\n",
    "qreg_a = QuantumRegister(2, 'alice')\n",
    "qreg_b = QuantumRegister(1, 'bob')\n",
    "creg1 = ClassicalRegister(1, 'c1')\n",
    "creg2 = ClassicalRegister(1, 'c2')\n",
    "qc1 = QuantumCircuit(qreg_a, qreg_b, creg1, creg2)\n",
    "\n",
    "# Run teleportation circuit\n",
    "resource_state(qc1, qreg_a[1], qreg_b[0])\n",
    "qc1.barrier()\n",
    "\n",
    "initial_state(qc1, qreg_a[0])\n",
    "qc1.barrier()\n",
    "alice(qc1, qreg_a[0], qreg_a[1], creg1, creg2)\n",
    "qc1.barrier()\n",
    "bob(qc1, qreg_b[0], creg1, creg2)\n",
    "qc1.barrier()\n",
    "\n",
    "# Optionally visualize the quantum circuit\n",
    "print(qc1.draw())\n",
    "\n",
    "# Use the simulator from qiskit Aer to test\n",
    "test_by_inverse(qc1, qreg_b[0]) # if successful, expect bob's qubit to return to |0> after this.\n",
    "result = ClassicalRegister(1, 'verify')\n",
    "qc1.add_register(result)\n",
    "qc1.measure(qreg_b, result)\n",
    "\n",
    "backend = BasicAer.get_backend('qasm_simulator')\n",
    "r = execute(qc1, backend, shots=1024).result()\n",
    "r.get_counts(qc1)\n",
    "# Check if bob's measurement outcome is always 0."
   ]
  },
  {
   "cell_type": "code",
   "execution_count": 5,
   "metadata": {},
   "outputs": [],
   "source": [
    "# (Optional)\n",
    "# Your own tests"
   ]
  },
  {
   "cell_type": "code",
   "execution_count": 6,
   "metadata": {
    "deletable": false,
    "editable": false,
    "nbgrader": {
     "cell_type": "code",
     "checksum": "867e166632b0814f3f1bd542e8cd292a",
     "grade": true,
     "grade_id": "1-1-2a-test",
     "locked": true,
     "points": 4,
     "schema_version": 3,
     "solution": false,
     "task": false
    }
   },
   "outputs": [
    {
     "name": "stdout",
     "output_type": "stream",
     "text": [
      "Testing [1, 0]\n",
      "Testing [0, 1]\n",
      "PASS\n"
     ]
    }
   ],
   "source": [
    "# Do not delete this cell\n",
    "# The autograder will test the functions you implemented\n",
    "\n",
    "# Check that you use Z-type first, then X-type\n",
    "def enforce_z_first(alice):\n",
    "    qreg = QuantumRegister(2, 'q')\n",
    "    creg1 = ClassicalRegister(1, 'c1')\n",
    "    creg2 = ClassicalRegister(1, 'c2')\n",
    "    qc = QuantumCircuit(qreg, creg1, creg2)\n",
    "    alice(qc, qreg[0], qreg[1], creg1, creg2)\n",
    "    qc_cx = QuantumCircuit(qreg)\n",
    "    qc_cx.cx(qreg[0], qreg[1])\n",
    "    cx_gate, cx_qubits, _ = qc_cx[0]\n",
    "    for gate, qubits, cbits in qc:\n",
    "        if len(qubits) >= 2:\n",
    "            # This gate must be a CNOT controlled on 0\n",
    "            assert gate == cx_gate and qubits == cx_qubits, (\n",
    "                f'Alice must start with `qc.cx(b, a)` but started '\n",
    "                f'with {type(gate)} on {qubits}')\n",
    "            break\n",
    "enforce_z_first(alice)\n",
    "\n",
    "from scipy.stats import unitary_group\n",
    "from qiskit.quantum_info.operators.predicates import matrix_equal\n",
    "def random_unitary(n, rng=None):\n",
    "    return unitary_group.rvs(2 ** n, random_state=rng)\n",
    "def equal_up_to_global_phase(m1, m2, atol=1e-8, rtol=1e-8):\n",
    "    return matrix_equal(m1, m2, ignore_phase=True, atol=atol, rtol=rtol)\n",
    "\n",
    "def test_1_1_2(alice_state_vector, rng=np.random):\n",
    "    print('Testing', alice_state_vector)\n",
    "    \n",
    "    # Initialize circuit with three qubits and two classical bits.\n",
    "    qreg_a = QuantumRegister(2, f'alice{np.random.randint(2**9)}')\n",
    "    qreg_b = QuantumRegister(1, f'bob{np.random.randint(2**9)}')\n",
    "    creg1 = ClassicalRegister(1, f'c1{np.random.randint(2**9)}')\n",
    "    creg2 = ClassicalRegister(1, f'c2{np.random.randint(2**9)}')\n",
    "    qc1 = QuantumCircuit(qreg_a, qreg_b, creg1, creg2)\n",
    "\n",
    "    # Run teleportation circuit\n",
    "    resource_state(qc1, qreg_a[1], qreg_b[0])\n",
    "    qc1.barrier()\n",
    "    qc1.initialize(alice_state_vector, qreg_a[0])\n",
    "    qc1.barrier()\n",
    "    alice(qc1, qreg_a[0], qreg_a[1], creg1, creg2)\n",
    "    qc1.barrier()\n",
    "    bob(qc1, qreg_b[0], creg1, creg2)\n",
    "    qc1.barrier()\n",
    "    #qc1.initialize([1, 0, 0, 0], qreg_a)\n",
    "    \n",
    "    # Use the simulator from qiskit Aer to test\n",
    "    simulator = BasicAer.get_backend('statevector_simulator')\n",
    "    r = execute(qc1, simulator, shots=1).result()\n",
    "    \n",
    "    # Extract just Bob's state vector\n",
    "    full_state = r.get_statevector()\n",
    "    bob_state = None\n",
    "    for subspace in range(0, 4):\n",
    "        sub_state = full_state[subspace:subspace+8:4]\n",
    "        norm = np.linalg.norm(sub_state)\n",
    "        if np.isclose(norm, 0): pass\n",
    "        elif np.isclose(norm, 1) and bob_state is None:\n",
    "            bob_state = sub_state\n",
    "        else:\n",
    "            print(full_state, sub_state)\n",
    "            assert False, \"Make sure all qubits except Bob's have been measured\"\n",
    "    assert bob_state is not None, \"Bob's qubit state not found in state vector\"\n",
    "    \n",
    "    # Check if bob's state equals alices initial state\n",
    "    assert equal_up_to_global_phase(alice_state_vector, bob_state), (\n",
    "        f\"Bob's state ({bob_state}) does not match Alice's initial \"\n",
    "        f\"state ({alice_state_vector})\")\n",
    "\n",
    "test_1_1_2([1, 0])  # |0>\n",
    "test_1_1_2([0, 1])  # |1>\n",
    "print('PASS')"
   ]
  },
  {
   "cell_type": "code",
   "execution_count": 7,
   "metadata": {
    "deletable": false,
    "editable": false,
    "nbgrader": {
     "cell_type": "code",
     "checksum": "a2682fe0754da451f5a2668a29d50c37",
     "grade": true,
     "grade_id": "1-1-2b-test",
     "locked": true,
     "points": 3,
     "schema_version": 3,
     "solution": false,
     "task": false
    }
   },
   "outputs": [
    {
     "name": "stdout",
     "output_type": "stream",
     "text": [
      "Testing [0.7071067811865476, 0.7071067811865476]\n",
      "Testing [0.7071067811865476, -0.7071067811865476]\n",
      "PASS\n"
     ]
    }
   ],
   "source": [
    "# Do not delete this cell\n",
    "# The autograder will continue testing the functions you implemented\n",
    "test_1_1_2([0.5**0.5, 0.5**0.5])  # |+>\n",
    "test_1_1_2([0.5**0.5, -0.5**0.5])  # |->\n",
    "print('PASS')"
   ]
  },
  {
   "cell_type": "code",
   "execution_count": 8,
   "metadata": {
    "deletable": false,
    "editable": false,
    "nbgrader": {
     "cell_type": "code",
     "checksum": "d972221271c3cdabd3acd5f7e4f0829a",
     "grade": true,
     "grade_id": "1-1-2c-test",
     "locked": true,
     "points": 3,
     "schema_version": 3,
     "solution": false,
     "task": false
    }
   },
   "outputs": [],
   "source": [
    "# Do not delete this cell\n",
    "# The autograder will continue testing the functions you implemented\n",
    "# Hidden tests"
   ]
  },
  {
   "cell_type": "markdown",
   "metadata": {},
   "source": [
    "### 2. Quantum Oracles\n",
    "\n",
    "In this problem, we are going to explore the effect of \"phase kickback\" and learn to implement the different quantum oracles in practice.\n",
    "\n",
    "#### 2.1 Phase kickback\n",
    "Recall the definition of a controlled-not (CNOT) gate on qubit $a$ (control) and qubit $b$ (target): if qubit $a$ is $|0\\rangle$, do nothing; if qubit $a$ is $|1\\rangle$, apply X gate on qubit $b$. \n",
    "\n",
    "In this definition, it seems that the state of qubit $a$ will never change after the CNOT gate. Is this true? To find out, let us consider a simple scenario, where qubit $a$ and qubit $b$ are *not* entangled. "
   ]
  },
  {
   "cell_type": "markdown",
   "metadata": {},
   "source": [
    "##### 2.1.1 \n",
    "What is the state of qubit $a$ after the following quantum circuit?\n",
    "For example, if your answer is $\\psi = \\begin{pmatrix}\\cos(\\pi/8) \\\\ \\sin(\\pi/8)\\end{pmatrix}$, enter\n",
    "```python\n",
    "psi211 = np.array([np.cos(np.pi/8), np.cos(np.pi/8)])\n",
    "```\n",
    "(This is the state after ry(π/4) on q_0.)\n",
    "\n",
    "Note: The two qubits do not become entangled so it is possible to find the state vector for qubit $a$ independently."
   ]
  },
  {
   "cell_type": "code",
   "execution_count": 9,
   "metadata": {},
   "outputs": [
    {
     "data": {
      "text/html": [
       "<pre style=\"word-wrap: normal;white-space: pre;background: #fff0;line-height: 1.1;font-family: &quot;Courier New&quot;,Courier,monospace\">     ┌─────────┐     \n",
       "q_0: ┤ Ry(π/8) ├──■──\n",
       "     └──┬───┬──┘┌─┴─┐\n",
       "q_1: ───┤ H ├───┤ X ├\n",
       "        └───┘   └───┘\n",
       "c: 2/════════════════\n",
       "                     </pre>"
      ],
      "text/plain": [
       "     ┌─────────┐     \n",
       "q_0: ┤ Ry(π/8) ├──■──\n",
       "     └──┬───┬──┘┌─┴─┐\n",
       "q_1: ───┤ H ├───┤ X ├\n",
       "        └───┘   └───┘\n",
       "c: 2/════════════════\n",
       "                     "
      ]
     },
     "execution_count": 9,
     "metadata": {},
     "output_type": "execute_result"
    }
   ],
   "source": [
    "qc211 = QuantumCircuit(2, 2)\n",
    "def prep_a(qc, a):\n",
    "    qc.ry(np.pi/8, a)\n",
    "    \n",
    "def prep_b(qc, b):\n",
    "    qc.h(b)\n",
    "    \n",
    "prep_a(qc211, 0)\n",
    "prep_b(qc211, 1)\n",
    "qc211.cx(0, 1)\n",
    "\n",
    "qc211.draw(fold=-1)"
   ]
  },
  {
   "cell_type": "code",
   "execution_count": 10,
   "metadata": {
    "deletable": false,
    "nbgrader": {
     "cell_type": "code",
     "checksum": "79ba9d08808118f062acf300d9ac8ce7",
     "grade": false,
     "grade_id": "2-1-1",
     "locked": false,
     "schema_version": 3,
     "solution": true,
     "task": false
    }
   },
   "outputs": [
    {
     "name": "stdout",
     "output_type": "stream",
     "text": [
      "array([0.98078528, 0.19509032])\n"
     ]
    }
   ],
   "source": [
    "psi211 = np.array([\n",
    "    # YOUR CODE HERE\n",
    "    np.cos(np.pi/16), np.sin(np.pi/16)\n",
    "])\n",
    "print(repr(psi211))"
   ]
  },
  {
   "cell_type": "code",
   "execution_count": 11,
   "metadata": {
    "deletable": false,
    "editable": false,
    "nbgrader": {
     "cell_type": "code",
     "checksum": "6a395b54bde3e7bf836588d86582492d",
     "grade": true,
     "grade_id": "2-1-1-test",
     "locked": true,
     "points": 10,
     "schema_version": 3,
     "solution": false,
     "task": false
    }
   },
   "outputs": [],
   "source": [
    "# Do not delete this cell\n",
    "assert psi211.shape == (2,), 'psi211 must be a 1D numpy array with 2 entries'\n",
    "assert np.isclose(np.linalg.norm(psi211), 1), (\n",
    "    'The psi211 vector must be normalized')"
   ]
  },
  {
   "cell_type": "markdown",
   "metadata": {},
   "source": [
    "##### 2.1.2 \n",
    "What is the state of qubit $a$ after the following quantum circuit?\n",
    "For example, if your answer is $\\psi = \\begin{pmatrix}\\cos(\\pi/8) \\\\ \\sin(\\pi/8)\\end{pmatrix}$, enter\n",
    "```python\n",
    "psi211 = np.array([np.cos(np.pi/8), np.cos(np.pi/8)])\n",
    "```\n",
    "(This is the state after ry(π/4) on q_0.)\n",
    "\n",
    "Note: The two qubits do not become entangled so it is possible to find the state vector for qubit $a$ independently."
   ]
  },
  {
   "cell_type": "code",
   "execution_count": 12,
   "metadata": {},
   "outputs": [
    {
     "data": {
      "text/html": [
       "<pre style=\"word-wrap: normal;white-space: pre;background: #fff0;line-height: 1.1;font-family: &quot;Courier New&quot;,Courier,monospace\">     ┌─────────┐          \n",
       "q_0: ┤ Ry(π/8) ├───────■──\n",
       "     └──┬───┬──┘┌───┐┌─┴─┐\n",
       "q_1: ───┤ X ├───┤ H ├┤ X ├\n",
       "        └───┘   └───┘└───┘\n",
       "c: 2/═════════════════════\n",
       "                          </pre>"
      ],
      "text/plain": [
       "     ┌─────────┐          \n",
       "q_0: ┤ Ry(π/8) ├───────■──\n",
       "     └──┬───┬──┘┌───┐┌─┴─┐\n",
       "q_1: ───┤ X ├───┤ H ├┤ X ├\n",
       "        └───┘   └───┘└───┘\n",
       "c: 2/═════════════════════\n",
       "                          "
      ]
     },
     "execution_count": 12,
     "metadata": {},
     "output_type": "execute_result"
    }
   ],
   "source": [
    "qc212 = QuantumCircuit(2, 2)\n",
    "def prep_a2(qc, a):\n",
    "    qc.ry(np.pi/8, a)\n",
    "    \n",
    "def prep_b2(qc, b):\n",
    "    qc.x(b)\n",
    "    qc.h(b)\n",
    "    \n",
    "prep_a2(qc212, 0)\n",
    "prep_b2(qc212, 1)\n",
    "qc212.cx(0, 1)\n",
    "\n",
    "qc212.draw(fold=-1)"
   ]
  },
  {
   "cell_type": "code",
   "execution_count": 25,
   "metadata": {
    "deletable": false,
    "nbgrader": {
     "cell_type": "code",
     "checksum": "38fd9a37b82ab04107c811056e6dfa21",
     "grade": false,
     "grade_id": "2-1-2",
     "locked": false,
     "schema_version": 3,
     "solution": true,
     "task": false
    }
   },
   "outputs": [
    {
     "name": "stdout",
     "output_type": "stream",
     "text": [
      "array([ 0.98078528, -0.19509032])\n"
     ]
    }
   ],
   "source": [
    "psi212 = np.array([\n",
    "    # YOUR CODE HERE\n",
    "    np.cos(np.pi/16),\n",
    "    -np.sin(np.pi/16)\n",
    "])\n",
    "print(repr(psi212))"
   ]
  },
  {
   "cell_type": "code",
   "execution_count": 14,
   "metadata": {
    "deletable": false,
    "editable": false,
    "nbgrader": {
     "cell_type": "code",
     "checksum": "1c9df646c3eb7a91bfd38ee45a907267",
     "grade": true,
     "grade_id": "2-1-2-test",
     "locked": true,
     "points": 10,
     "schema_version": 3,
     "solution": false,
     "task": false
    }
   },
   "outputs": [],
   "source": [
    "# Do not delete this cell\n",
    "assert psi212.shape == (2,), 'psi212 must be a 1D numpy array with 2 entries'\n",
    "assert np.isclose(np.linalg.norm(psi212), 1), (\n",
    "    'The psi212 vector must be normalized')"
   ]
  },
  {
   "cell_type": "markdown",
   "metadata": {},
   "source": [
    "##### 2.2 From \"xor oracle\" to \"phase oracle\"\n",
    "Oracles play an important role in quantum query algorithms. In this problem, we are going to learn how to show that the different types of oracles in lecture are in fact equivalent, that is to show that we can simulate a phase oracle using an xor oracle.\n",
    "\n",
    "Recall the definition of an xor oracle $O_f$ on $n$-bit input register $|x\\rangle$ and $m$-bit output register $|y\\rangle$, for a boolean function $f:\\{0,1\\}^n\\rightarrow\\{0,1\\}^m$:\n",
    "\n",
    "$$O_f|x,y\\rangle = |x, y \\oplus f(x)\\rangle,$$\n",
    "\n",
    "where $\\oplus$ is the xor (addition modulo 2) operation. And similarly for a phase oracle $O_f^\\pm$:\n",
    "\n",
    "$$O_f^\\pm|x,y\\rangle = (-1)^{f(x)\\cdot y}|x, y\\rangle,$$\n",
    "\n",
    "where $\\cdot$ is the inner product."
   ]
  },
  {
   "cell_type": "markdown",
   "metadata": {},
   "source": [
    "##### 2.2.1 Implementing xor oracle\n",
    "Suppose we have a function $f:\\{0,1\\}^5\\rightarrow \\{0,1\\}$ which implements the parity function on input five bits, that is $f(x) = 0$ if input $x$ has even number of 1s and $f(x) = 1$ if input $x$ has odd number of 1s:\n",
    "\n",
    "$$f(x) = x_0\\oplus x_1\\oplus x_2\\oplus x_3\\oplus x_4$$\n",
    "\n",
    "where $x_i$ is the $i^{th}$ bit of $x$ and $\\oplus$ is the xor operation. \n",
    "\n",
    "Write a quantum program that implements the oracle $O_f$ below."
   ]
  },
  {
   "cell_type": "code",
   "execution_count": 15,
   "metadata": {
    "deletable": false,
    "nbgrader": {
     "cell_type": "code",
     "checksum": "760fa6cbaf84dc9f67c4d417410061e4",
     "grade": false,
     "grade_id": "2-2-1",
     "locked": false,
     "schema_version": 3,
     "solution": true,
     "task": false
    }
   },
   "outputs": [],
   "source": [
    "def xor_oracle(qc, n, m, xreg, yreg):\n",
    "    # Write your xor oracle for the function f here\n",
    "    # You may assume n=5 and m=1\n",
    "    \n",
    "    # YOUR CODE HERE\n",
    "    for i in range(n):\n",
    "        qc.cx(xreg[i], yreg[0])\n",
    "    ..."
   ]
  },
  {
   "cell_type": "code",
   "execution_count": 16,
   "metadata": {},
   "outputs": [
    {
     "data": {
      "text/html": [
       "<pre style=\"word-wrap: normal;white-space: pre;background: #fff0;line-height: 1.1;font-family: &quot;Courier New&quot;,Courier,monospace\">     ┌──────────────────────────────────────────────────────────────────────────────┐                            \n",
       "x_0: ┤0                                                                             ├──■─────────────────────────\n",
       "     │                                                                              │  │                         \n",
       "x_1: ┤1                                                                             ├──┼────■────────────────────\n",
       "     │                                                                              │  │    │                    \n",
       "x_2: ┤2 Initialize(0,0,0,0,0,0,0,0,0,0,0,0,0,0,0,0,0,0,0,0,0,0,0,0,1,0,0,0,0,0,0,0) ├──┼────┼────■───────────────\n",
       "     │                                                                              │  │    │    │               \n",
       "x_3: ┤3                                                                             ├──┼────┼────┼────■──────────\n",
       "     │                                                                              │  │    │    │    │          \n",
       "x_4: ┤4                                                                             ├──┼────┼────┼────┼────■─────\n",
       "     └──────────────────────────────────────────────────────────────────────────────┘┌─┴─┐┌─┴─┐┌─┴─┐┌─┴─┐┌─┴─┐┌─┐\n",
       "  y: ────────────────────────────────────────────────────────────────────────────────┤ X ├┤ X ├┤ X ├┤ X ├┤ X ├┤M├\n",
       "                                                                                     └───┘└───┘└───┘└───┘└───┘└╥┘\n",
       "c: 1/══════════════════════════════════════════════════════════════════════════════════════════════════════════╩═\n",
       "                                                                                                               0 </pre>"
      ],
      "text/plain": [
       "     ┌──────────────────────────────────────────────────────────────────────────────┐                            \n",
       "x_0: ┤0                                                                             ├──■─────────────────────────\n",
       "     │                                                                              │  │                         \n",
       "x_1: ┤1                                                                             ├──┼────■────────────────────\n",
       "     │                                                                              │  │    │                    \n",
       "x_2: ┤2 Initialize(0,0,0,0,0,0,0,0,0,0,0,0,0,0,0,0,0,0,0,0,0,0,0,0,1,0,0,0,0,0,0,0) ├──┼────┼────■───────────────\n",
       "     │                                                                              │  │    │    │               \n",
       "x_3: ┤3                                                                             ├──┼────┼────┼────■──────────\n",
       "     │                                                                              │  │    │    │    │          \n",
       "x_4: ┤4                                                                             ├──┼────┼────┼────┼────■─────\n",
       "     └──────────────────────────────────────────────────────────────────────────────┘┌─┴─┐┌─┴─┐┌─┴─┐┌─┴─┐┌─┴─┐┌─┐\n",
       "  y: ────────────────────────────────────────────────────────────────────────────────┤ X ├┤ X ├┤ X ├┤ X ├┤ X ├┤M├\n",
       "                                                                                     └───┘└───┘└───┘└───┘└───┘└╥┘\n",
       "c: 1/══════════════════════════════════════════════════════════════════════════════════════════════════════════╩═\n",
       "                                                                                                               0 "
      ]
     },
     "execution_count": 16,
     "metadata": {},
     "output_type": "execute_result"
    }
   ],
   "source": [
    "# You may modify (or delete) this cell or add new cells\n",
    "\n",
    "# Initialize a circuit with five input qubits for storing x and one output qubit for y\n",
    "n, m = 5, 1\n",
    "xreg1 = QuantumRegister(n, 'x')\n",
    "yreg1 = QuantumRegister(m, 'y')\n",
    "creg1 = ClassicalRegister(m, 'c')\n",
    "qc1 = QuantumCircuit(xreg1, yreg1, creg1)\n",
    "\n",
    "# Initialize some state\n",
    "x_input = 0b11000  # Change me\n",
    "init_state = [0] * 2**n\n",
    "init_state[x_input] = 1\n",
    "qc1.initialize(init_state, xreg1)\n",
    "\n",
    "# Apply oracle\n",
    "xor_oracle(qc1, n, m, xreg1, yreg1)\n",
    "\n",
    "# Measure output\n",
    "qc1.measure(yreg1, creg1)\n",
    "\n",
    "# Display circuit\n",
    "qc1.draw(fold=-1)"
   ]
  },
  {
   "cell_type": "code",
   "execution_count": 17,
   "metadata": {},
   "outputs": [
    {
     "data": {
      "text/plain": [
       "{'0': 1024}"
      ]
     },
     "execution_count": 17,
     "metadata": {},
     "output_type": "execute_result"
    }
   ],
   "source": [
    "# You may modify (or delete) this cell or add new cells\n",
    "\n",
    "# Simulate circuit\n",
    "backend = BasicAer.get_backend('qasm_simulator')\n",
    "r = execute(qc1, backend, shots=1024).result()\n",
    "r.get_counts(qc1)"
   ]
  },
  {
   "cell_type": "code",
   "execution_count": 18,
   "metadata": {},
   "outputs": [],
   "source": [
    "# (Optional)\n",
    "# Your own tests"
   ]
  },
  {
   "cell_type": "code",
   "execution_count": 19,
   "metadata": {
    "deletable": false,
    "editable": false,
    "nbgrader": {
     "cell_type": "code",
     "checksum": "4d0d35f8ec945e058ef5143d070b72cc",
     "grade": true,
     "grade_id": "2-2-1a-test",
     "locked": true,
     "points": 5,
     "schema_version": 3,
     "solution": false,
     "task": false
    }
   },
   "outputs": [
    {
     "name": "stdout",
     "output_type": "stream",
     "text": [
      "PASS\n"
     ]
    }
   ],
   "source": [
    "# Do not delete this cell\n",
    "# The autograder will test the function `xor_oracle` you implemented\n",
    "\n",
    "def sim_2_2_1(n, m, init_state, shots=1024):\n",
    "    xreg = QuantumRegister(n, 'x')\n",
    "    yreg = QuantumRegister(m, 'y')\n",
    "    creg = ClassicalRegister(m, 'c')\n",
    "    qc = QuantumCircuit(xreg, yreg, creg)\n",
    "    # Initialize some state\n",
    "    qc.initialize(init_state, xreg)\n",
    "    # Apply oracle\n",
    "    xor_oracle(qc, n, m, xreg, yreg)\n",
    "    # Measure output\n",
    "    qc.measure(yreg, creg)\n",
    "    # Simulate\n",
    "    backend = BasicAer.get_backend('qasm_simulator')\n",
    "    r = execute(qc, backend, shots=shots).result()\n",
    "    return r.get_counts(qc)\n",
    "\n",
    "def test_2_2_1():\n",
    "    # Initialize a circuit with five input qubits for storing x and one output qubit for y\n",
    "    n, m = 5, 1\n",
    "    # Test all classical input states\n",
    "    invalid = False\n",
    "    for x_input in range(2**n):\n",
    "        # Simulate with each classical state\n",
    "        init_state = [0] * 2**n\n",
    "        init_state[x_input] = 1\n",
    "        counts = sim_2_2_1(n, m, init_state)\n",
    "        # Verify measured output\n",
    "        if len(counts) != 1:\n",
    "            invalid = True\n",
    "            print(f'Invalid oracle for x={bin(x_input):<0{n+2}} '\n",
    "                  f'(expected a deterministic result)')\n",
    "        bit_count = 0\n",
    "        for i in range(n):\n",
    "            bit_count += (x_input >> i) & 1\n",
    "        expected = bit_count % 2\n",
    "        if int(list(counts.keys())[0], base=2) != expected:\n",
    "            invalid = True\n",
    "            print(f'Invalid oracle for x={bin(x_input):<0{n+2}}')\n",
    "    assert not invalid, 'Invalid oracle'\n",
    "test_2_2_1()\n",
    "print('PASS')"
   ]
  },
  {
   "cell_type": "code",
   "execution_count": 20,
   "metadata": {
    "deletable": false,
    "editable": false,
    "nbgrader": {
     "cell_type": "code",
     "checksum": "f416cf5e67ade8ed34365ff4adb242e4",
     "grade": true,
     "grade_id": "2-2-1b-test",
     "locked": true,
     "points": 5,
     "schema_version": 3,
     "solution": false,
     "task": false
    }
   },
   "outputs": [],
   "source": [
    "# Do not delete this cell\n",
    "# The autograder will continue testing the function `xor_oracle` you implemented\n",
    "# Hidden tests"
   ]
  },
  {
   "cell_type": "markdown",
   "metadata": {},
   "source": [
    "##### 2.2.2 Implementing phase oracle\n",
    "Suppose now we want to use the xor oracle as subroutine to implement the phase oracle for $f$, using what we learned from phase kickback. \n",
    "\n",
    "Write a quantum program that implements the oracle $O_f^\\pm$ below by calling your `xor_oracle` function and adding other gates before and after."
   ]
  },
  {
   "cell_type": "code",
   "execution_count": 21,
   "metadata": {
    "deletable": false,
    "nbgrader": {
     "cell_type": "code",
     "checksum": "2b91964ce944d6a70fb4574d18dee8b0",
     "grade": false,
     "grade_id": "2-2-2",
     "locked": false,
     "schema_version": 3,
     "solution": true,
     "task": false
    }
   },
   "outputs": [],
   "source": [
    "def phase_oracle(qc, n, m, xreg, yreg):\n",
    "    # Write your phase oracle for the function f here\n",
    "    # You may assume n=5 and m=1\n",
    "    \n",
    "    # YOUR CODE HERE\n",
    "    ...\n",
    "    qc.h(xreg)\n",
    "    for i in range(n):\n",
    "        qc.cx(yreg[0], xreg[i])\n",
    "    \n",
    "    qc.h(xreg)"
   ]
  },
  {
   "cell_type": "code",
   "execution_count": 22,
   "metadata": {},
   "outputs": [],
   "source": [
    "# (Optional)\n",
    "# Your own tests"
   ]
  },
  {
   "cell_type": "code",
   "execution_count": 23,
   "metadata": {
    "deletable": false,
    "editable": false,
    "nbgrader": {
     "cell_type": "code",
     "checksum": "c70957151581229c52231b3f10156d34",
     "grade": true,
     "grade_id": "2-2-2a-test",
     "locked": true,
     "points": 3,
     "schema_version": 3,
     "solution": false,
     "task": false
    }
   },
   "outputs": [
    {
     "name": "stdout",
     "output_type": "stream",
     "text": [
      "PASS\n"
     ]
    }
   ],
   "source": [
    "# Do not delete this cell\n",
    "# The autograder will test the function `phase_oracle` you implemented\n",
    "\n",
    "def sim_2_2_2(n, m, init_state):\n",
    "    xreg = QuantumRegister(n, 'x')\n",
    "    yreg = QuantumRegister(m, 'y')\n",
    "    cxreg = ClassicalRegister(n, 'cx')\n",
    "    cyreg = ClassicalRegister(n, 'cy')\n",
    "    qc = QuantumCircuit(xreg, yreg, cxreg, cyreg)\n",
    "    # Initialize some state\n",
    "    qc.initialize(init_state, xreg)\n",
    "    # Apply oracle\n",
    "    phase_oracle(qc, n, m, xreg, yreg)\n",
    "    # Measure output\n",
    "    qc.measure(xreg, cxreg)\n",
    "    qc.measure(yreg, cyreg)\n",
    "    # Simulate\n",
    "    backend = BasicAer.get_backend('qasm_simulator')\n",
    "    r = execute(qc, backend, shots=1).result()\n",
    "    return r.get_counts(qc)\n",
    "\n",
    "def test_2_2_2():\n",
    "    # Initialize a circuit with five input qubits for storing x and one output qubit for y\n",
    "    n, m = 5, 1\n",
    "    # Test all classical input states\n",
    "    invalid = False\n",
    "    for x_input in range(2**n):\n",
    "        # Simulate with each classical state\n",
    "        init_state = [0] * 2**n\n",
    "        init_state[x_input] = 1\n",
    "        counts = sim_2_2_2(n, m, init_state)\n",
    "        x_meas = int(list(counts.keys())[0].split()[1], base=2)\n",
    "        # Verify measured output\n",
    "        if x_meas != x_input:\n",
    "            invalid = True\n",
    "            print(f'Invalid oracle for x={bin(x_input):<0{n+2}}')\n",
    "    assert not invalid, 'Invalid oracle'\n",
    "test_2_2_2()\n",
    "print('PASS')"
   ]
  },
  {
   "cell_type": "code",
   "execution_count": 24,
   "metadata": {
    "deletable": false,
    "editable": false,
    "nbgrader": {
     "cell_type": "code",
     "checksum": "f598f6cc7341b34afdedd2622ec51d63",
     "grade": true,
     "grade_id": "2-2-2b-test",
     "locked": true,
     "points": 7,
     "schema_version": 3,
     "solution": false,
     "task": false
    }
   },
   "outputs": [],
   "source": [
    "# Do not delete this cell\n",
    "# The autograder will continue testing the function `phase_oracle` you implemented\n",
    "# Hidden tests"
   ]
  },
  {
   "cell_type": "code",
   "execution_count": null,
   "metadata": {},
   "outputs": [],
   "source": []
  }
 ],
 "metadata": {
  "@webio": {
   "lastCommId": null,
   "lastKernelId": null
  },
  "kernelspec": {
   "display_name": "Python 3 (ipykernel)",
   "language": "python",
   "name": "python3"
  },
  "language_info": {
   "codemirror_mode": {
    "name": "ipython",
    "version": 3
   },
   "file_extension": ".py",
   "mimetype": "text/x-python",
   "name": "python",
   "nbconvert_exporter": "python",
   "pygments_lexer": "ipython3",
   "version": "3.7.11"
  }
 },
 "nbformat": 4,
 "nbformat_minor": 4
}
