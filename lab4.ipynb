{
 "cells": [
  {
   "cell_type": "markdown",
   "id": "7a27a606",
   "metadata": {},
   "source": [
    "Before you turn this lab in, make sure everything runs as expected. **Restart and run all cells** (in the menubar, select Kernel$\\rightarrow$Restart & Run All) then check the output is as expected and there are no errors.  Also remember to **Save** before uploading this file (File$\\rightarrow$Save and Checkpoint)."
   ]
  },
  {
   "cell_type": "markdown",
   "id": "ead344e3",
   "metadata": {},
   "source": [
    "---"
   ]
  },
  {
   "cell_type": "markdown",
   "id": "respiratory-evans",
   "metadata": {},
   "source": [
    "# <div align=\"center\">Quantum Computer Systems Design</div>&nbsp;  <div align=\"center\">Lab 4</div>\n",
    "\n",
    "In the videos, you saw the steps to compile and optimize a quantum algorithm.  For this lab, you will start with a small circuit, the Cuccaro adder.  This by itself is not a quantum algorithm but can be used as a component in algorithms.  The Cuccaro adder takes as input two quantum registers, a carry-in qubit, and a carry-out qubit and as output overwrites one of the registers and the carry-out bit with the sum.\n",
    "\n",
    "In part 1, you will decompose the circuit with and without an added control qubit and in part 2, you will consider ancilla.  There is a lot of code in this notebook but you can write no or very little code to solve each problem.  Alternatively, you may use Qiskit to automatially solve each question.\n",
    "\n",
    "# 1. Quantum Circuit Decomposition\n",
    "\n",
    "Below is the definition of the Cuccaro adder within Qiskit.  Run each of the below cells untill you reach question 1.1 to start."
   ]
  },
  {
   "cell_type": "code",
   "execution_count": 1,
   "id": "fewer-warrant",
   "metadata": {},
   "outputs": [],
   "source": [
    "import numpy as np\n",
    "import qiskit\n",
    "from qiskit import QuantumCircuit, ClassicalRegister, QuantumRegister, execute\n",
    "from qiskit.circuit.quantumregister import Qubit\n",
    "from qiskit.tools.visualization import circuit_drawer\n",
    "from qiskit.quantum_info import state_fidelity, random_unitary\n",
    "from qiskit.quantum_info.operators.predicates import matrix_equal\n",
    "from qiskit import BasicAer\n",
    "backend = BasicAer.get_backend('qasm_simulator')\n",
    "from IPython.display import display"
   ]
  },
  {
   "cell_type": "code",
   "execution_count": 2,
   "id": "reasonable-supplement",
   "metadata": {},
   "outputs": [
    {
     "name": "stdout",
     "output_type": "stream",
     "text": [
      "MAJ:\n"
     ]
    },
    {
     "data": {
      "text/html": [
       "<pre style=\"word-wrap: normal;white-space: pre;background: #fff0;line-height: 1.1;font-family: &quot;Courier New&quot;,Courier,monospace\">          ┌───┐     \n",
       "q_0: ─────┤ X ├──■──\n",
       "     ┌───┐└─┬─┘  │  \n",
       "q_1: ┤ X ├──┼────■──\n",
       "     └─┬─┘  │  ┌─┴─┐\n",
       "q_2: ──■────■──┤ X ├\n",
       "               └───┘</pre>"
      ],
      "text/plain": [
       "          ┌───┐     \n",
       "q_0: ─────┤ X ├──■──\n",
       "     ┌───┐└─┬─┘  │  \n",
       "q_1: ┤ X ├──┼────■──\n",
       "     └─┬─┘  │  ┌─┴─┐\n",
       "q_2: ──■────■──┤ X ├\n",
       "               └───┘"
      ]
     },
     "metadata": {},
     "output_type": "display_data"
    },
    {
     "name": "stdout",
     "output_type": "stream",
     "text": [
      "UMA2:\n"
     ]
    },
    {
     "data": {
      "text/html": [
       "<pre style=\"word-wrap: normal;white-space: pre;background: #fff0;line-height: 1.1;font-family: &quot;Courier New&quot;,Courier,monospace\">          ┌───┐     \n",
       "q_0: ──■──┤ X ├──■──\n",
       "       │  └─┬─┘┌─┴─┐\n",
       "q_1: ──■────┼──┤ X ├\n",
       "     ┌─┴─┐  │  └───┘\n",
       "q_2: ┤ X ├──■───────\n",
       "     └───┘          </pre>"
      ],
      "text/plain": [
       "          ┌───┐     \n",
       "q_0: ──■──┤ X ├──■──\n",
       "       │  └─┬─┘┌─┴─┐\n",
       "q_1: ──■────┼──┤ X ├\n",
       "     ┌─┴─┐  │  └───┘\n",
       "q_2: ┤ X ├──■───────\n",
       "     └───┘          "
      ]
     },
     "metadata": {},
     "output_type": "display_data"
    },
    {
     "name": "stdout",
     "output_type": "stream",
     "text": [
      "UMA3:\n"
     ]
    },
    {
     "data": {
      "text/html": [
       "<pre style=\"word-wrap: normal;white-space: pre;background: #fff0;line-height: 1.1;font-family: &quot;Courier New&quot;,Courier,monospace\">                         ┌───┐     \n",
       "q_0: ───────■────■───────┤ X ├─────\n",
       "     ┌───┐┌─┴─┐  │  ┌───┐└─┬─┘┌───┐\n",
       "q_1: ┤ X ├┤ X ├──■──┤ X ├──┼──┤ X ├\n",
       "     └───┘└───┘┌─┴─┐└───┘  │  └─┬─┘\n",
       "q_2: ──────────┤ X ├───────■────■──\n",
       "               └───┘               </pre>"
      ],
      "text/plain": [
       "                         ┌───┐     \n",
       "q_0: ───────■────■───────┤ X ├─────\n",
       "     ┌───┐┌─┴─┐  │  ┌───┐└─┬─┘┌───┐\n",
       "q_1: ┤ X ├┤ X ├──■──┤ X ├──┼──┤ X ├\n",
       "     └───┘└───┘┌─┴─┐└───┘  │  └─┬─┘\n",
       "q_2: ──────────┤ X ├───────■────■──\n",
       "               └───┘               "
      ]
     },
     "metadata": {},
     "output_type": "display_data"
    },
    {
     "name": "stdout",
     "output_type": "stream",
     "text": [
      "Cuccaro Adder:\n"
     ]
    },
    {
     "data": {
      "text/html": [
       "<pre style=\"word-wrap: normal;white-space: pre;background: #fff0;line-height: 1.1;font-family: &quot;Courier New&quot;,Courier,monospace\">        ┌──────┐                                       ┌───────┐\n",
       "  c_in: ┤0     ├───────────────────────────────────────┤0      ├\n",
       "        │      │                                       │       │\n",
       "b->s_0: ┤1     ├───────────────────────────────────────┤1      ├\n",
       "        │      │┌──────┐                      ┌───────┐│       │\n",
       "b->s_1: ┤  MAJ ├┤1     ├──────────────────────┤1      ├┤  UMA3 ├\n",
       "        │      ││      │┌──────┐     ┌───────┐│       ││       │\n",
       "b->s_2: ┤      ├┤      ├┤1     ├─────┤1      ├┤       ├┤       ├\n",
       "        │      ││  MAJ ││      │     │       ││  UMA3 ││       │\n",
       "   a_0: ┤2     ├┤0     ├┤      ├─────┤       ├┤0      ├┤2      ├\n",
       "        └──────┘│      ││  MAJ │     │  UMA3 ││       │└───────┘\n",
       "   a_1: ────────┤2     ├┤0     ├─────┤0      ├┤2      ├─────────\n",
       "                └──────┘│      │     │       │└───────┘         \n",
       "   a_2: ────────────────┤2     ├──■──┤2      ├──────────────────\n",
       "                        └──────┘┌─┴─┐└───────┘                  \n",
       " c_out: ────────────────────────┤ X ├───────────────────────────\n",
       "                                └───┘                           </pre>"
      ],
      "text/plain": [
       "        ┌──────┐                                       ┌───────┐\n",
       "  c_in: ┤0     ├───────────────────────────────────────┤0      ├\n",
       "        │      │                                       │       │\n",
       "b->s_0: ┤1     ├───────────────────────────────────────┤1      ├\n",
       "        │      │┌──────┐                      ┌───────┐│       │\n",
       "b->s_1: ┤  MAJ ├┤1     ├──────────────────────┤1      ├┤  UMA3 ├\n",
       "        │      ││      │┌──────┐     ┌───────┐│       ││       │\n",
       "b->s_2: ┤      ├┤      ├┤1     ├─────┤1      ├┤       ├┤       ├\n",
       "        │      ││  MAJ ││      │     │       ││  UMA3 ││       │\n",
       "   a_0: ┤2     ├┤0     ├┤      ├─────┤       ├┤0      ├┤2      ├\n",
       "        └──────┘│      ││  MAJ │     │  UMA3 ││       │└───────┘\n",
       "   a_1: ────────┤2     ├┤0     ├─────┤0      ├┤2      ├─────────\n",
       "                └──────┘│      │     │       │└───────┘         \n",
       "   a_2: ────────────────┤2     ├──■──┤2      ├──────────────────\n",
       "                        └──────┘┌─┴─┐└───────┘                  \n",
       " c_out: ────────────────────────┤ X ├───────────────────────────\n",
       "                                └───┘                           "
      ]
     },
     "execution_count": 2,
     "metadata": {},
     "output_type": "execute_result"
    }
   ],
   "source": [
    "# Implementation of the Cuccaro Quantum Adder from\n",
    "#   https://github.com/jmbaker94/quantumcircuitbenchmarks\n",
    "# Design from the paper\n",
    "#   https://arxiv.org/abs/quant-ph/0410184\n",
    "\n",
    "# Majority gate\n",
    "maj_c = QuantumCircuit(3, name='MAJ')\n",
    "maj_c.cx(2, 1)\n",
    "maj_c.cx(2, 0)\n",
    "maj_c.ccx(0, 1, 2)\n",
    "maj = maj_c.to_gate(label='MAJ')\n",
    "print('MAJ:')\n",
    "display(maj_c.draw(fold=-1))\n",
    "\n",
    "# 2-CNOT version of UnMajority and Add gate\n",
    "uma2_c = QuantumCircuit(3, name='UMA2')\n",
    "uma2_c.toffoli(0, 1, 2)\n",
    "uma2_c.cx(2, 0)\n",
    "uma2_c.cx(0, 1)\n",
    "uma2 = uma2_c.to_gate(label='UMA2')\n",
    "print('UMA2:')\n",
    "display(uma2_c.draw(fold=-1))\n",
    "\n",
    "# 3-CNOT version of UnMajority and Add gate\n",
    "# (Allows more parallelism in the circuit)\n",
    "uma3_c = QuantumCircuit(3, name='UMA3')\n",
    "uma3_c.x(1)\n",
    "uma3_c.cx(0, 1)\n",
    "uma3_c.toffoli(0, 1, 2)\n",
    "uma3_c.x(1)\n",
    "uma3_c.cx(2, 0)\n",
    "uma3_c.cx(2, 1)\n",
    "uma3 = uma3_c.to_gate(label='UMA3')\n",
    "print('UMA3:')\n",
    "display(uma3_c.draw(fold=-1))\n",
    "\n",
    "def cuccaro_adder(c, cin, a, b, cout, uma=uma3):\n",
    "    c.append(maj, [cin, b[0], a[0]])\n",
    "    for i in range(1, len(b)):\n",
    "        c.append(maj, [a[i-1], b[i], a[i]])\n",
    "\n",
    "    c.cx(a[-1], cout)\n",
    "\n",
    "    for i in reversed(range(1, len(b))):\n",
    "        c.append(uma, [a[i-1], b[i], a[i]])\n",
    "    c.append(uma, [cin, b[0], a[0]])\n",
    "\n",
    "def generate_adder_circuit(n, uma=uma3):\n",
    "    if n % 2 != 0:\n",
    "        raise ValueError('Odd number of qubits')\n",
    "\n",
    "    cin = QuantumRegister(1, 'c_in')\n",
    "    a = QuantumRegister(n//2-1, 'a')\n",
    "    b = QuantumRegister(n//2-1, 'b->s')\n",
    "    cout = QuantumRegister(1, 'c_out')\n",
    "    c = QuantumCircuit(cin, b, a, cout)\n",
    "        \n",
    "    cuccaro_adder(c, cin, a, b, cout, uma=uma)\n",
    "    return c\n",
    "\n",
    "print('Cuccaro Adder:')\n",
    "cuccaro8 = generate_adder_circuit(8)\n",
    "cuccaro8.draw(fold=-1)"
   ]
  },
  {
   "cell_type": "code",
   "execution_count": 3,
   "id": "demographic-saturn",
   "metadata": {},
   "outputs": [
    {
     "name": "stdout",
     "output_type": "stream",
     "text": [
      "OPENQASM 2.0;\n",
      "include \"qelib1.inc\";\n",
      "gate gate_MAJ q0,q1,q2 { cx q2,q1; cx q2,q0; ccx q0,q1,q2; }\n",
      "gate gate_UMA3 q0,q1,q2 { x q1; cx q0,q1; ccx q0,q1,q2; x q1; cx q2,q0; cx q2,q1; }\n",
      "qreg c_in[1];\n",
      "qreg b->s[3];\n",
      "qreg a[3];\n",
      "qreg c_out[1];\n",
      "gate_MAJ c_in[0],b->s[0],a[0];\n",
      "gate_MAJ a[0],b->s[1],a[1];\n",
      "gate_MAJ a[1],b->s[2],a[2];\n",
      "cx a[2],c_out[0];\n",
      "gate_UMA3 a[1],b->s[2],a[2];\n",
      "gate_UMA3 a[0],b->s[1],a[1];\n",
      "gate_UMA3 c_in[0],b->s[0],a[0];\n",
      "\n"
     ]
    }
   ],
   "source": [
    "# Export to QASM\n",
    "print(cuccaro8.qasm())"
   ]
  },
  {
   "cell_type": "code",
   "execution_count": 4,
   "id": "opened-custom",
   "metadata": {},
   "outputs": [
    {
     "data": {
      "text/html": [
       "<pre style=\"word-wrap: normal;white-space: pre;background: #fff0;line-height: 1.1;font-family: &quot;Courier New&quot;,Courier,monospace\">             ┌───────┐ ░             \n",
       "  c_in: ─────┤0      ├─░─────────────\n",
       "        ┌───┐│       │ ░ ┌─┐         \n",
       "b->s_0: ┤ X ├┤1      ├─░─┤M├─────────\n",
       "        ├───┤│       │ ░ └╥┘┌─┐      \n",
       "b->s_1: ┤ X ├┤2      ├─░──╫─┤M├──────\n",
       "        └───┘│       │ ░  ║ └╥┘┌─┐   \n",
       "b->s_2: ─────┤3      ├─░──╫──╫─┤M├───\n",
       "             │  CUCC │ ░  ║  ║ └╥┘   \n",
       "   a_0: ─────┤4      ├─░──╫──╫──╫────\n",
       "        ┌───┐│       │ ░  ║  ║  ║    \n",
       "   a_1: ┤ X ├┤5      ├─░──╫──╫──╫────\n",
       "        └───┘│       │ ░  ║  ║  ║    \n",
       "   a_2: ─────┤6      ├─░──╫──╫──╫────\n",
       "             │       │ ░  ║  ║  ║ ┌─┐\n",
       " c_out: ─────┤7      ├─░──╫──╫──╫─┤M├\n",
       "             └───────┘ ░  ║  ║  ║ └╥┘\n",
       " sum: 4/══════════════════╩══╩══╩══╩═\n",
       "                          0  1  2  3 </pre>"
      ],
      "text/plain": [
       "             ┌───────┐ ░             \n",
       "  c_in: ─────┤0      ├─░─────────────\n",
       "        ┌───┐│       │ ░ ┌─┐         \n",
       "b->s_0: ┤ X ├┤1      ├─░─┤M├─────────\n",
       "        ├───┤│       │ ░ └╥┘┌─┐      \n",
       "b->s_1: ┤ X ├┤2      ├─░──╫─┤M├──────\n",
       "        └───┘│       │ ░  ║ └╥┘┌─┐   \n",
       "b->s_2: ─────┤3      ├─░──╫──╫─┤M├───\n",
       "             │  CUCC │ ░  ║  ║ └╥┘   \n",
       "   a_0: ─────┤4      ├─░──╫──╫──╫────\n",
       "        ┌───┐│       │ ░  ║  ║  ║    \n",
       "   a_1: ┤ X ├┤5      ├─░──╫──╫──╫────\n",
       "        └───┘│       │ ░  ║  ║  ║    \n",
       "   a_2: ─────┤6      ├─░──╫──╫──╫────\n",
       "             │       │ ░  ║  ║  ║ ┌─┐\n",
       " c_out: ─────┤7      ├─░──╫──╫──╫─┤M├\n",
       "             └───────┘ ░  ║  ║  ║ └╥┘\n",
       " sum: 4/══════════════════╩══╩══╩══╩═\n",
       "                          0  1  2  3 "
      ]
     },
     "metadata": {},
     "output_type": "display_data"
    },
    {
     "data": {
      "text/plain": [
       "{'0101': 128}"
      ]
     },
     "execution_count": 4,
     "metadata": {},
     "output_type": "execute_result"
    }
   ],
   "source": [
    "# Try it out!\n",
    "n = 8\n",
    "cin = QuantumRegister(1, 'c_in')\n",
    "a = QuantumRegister(n//2-1, 'a')\n",
    "b = QuantumRegister(n//2-1, 'b->s')\n",
    "cout = QuantumRegister(1, 'c_out')\n",
    "creg = ClassicalRegister(n//2, 'sum')\n",
    "c = QuantumCircuit(cin, b, a, cout, creg)\n",
    "\n",
    "# Test on a specific input\n",
    "# carry-in=0 CHANGE ME!\n",
    "###c.x(cin[0])\n",
    "\n",
    "# a=2 (0b010) CHANGE ME!\n",
    "###c.x(a[0])\n",
    "c.x(a[1])\n",
    "###c.x(a[2])\n",
    "\n",
    "# b=3 (0b011) CHANGE ME!\n",
    "c.x(b[0])\n",
    "c.x(b[1])\n",
    "###c.x(b[2])\n",
    "\n",
    "#cuccaro_adder(c, cin, a, b, cout)\n",
    "c.append(cuccaro8.to_gate(label='CUCC'), [*cin, *b, *a, *cout])\n",
    "\n",
    "# Measure the result\n",
    "c.barrier()\n",
    "c.measure([*b, *cout], creg)\n",
    "\n",
    "# Show the circuit\n",
    "display(c.draw(fold=-1))\n",
    "\n",
    "# Simulate the result\n",
    "# 0 + 2 + 3 = 5 (0b0101)\n",
    "execute(c, backend, shots=128).result().get_counts(c)"
   ]
  },
  {
   "cell_type": "markdown",
   "id": "fiscal-tonight",
   "metadata": {},
   "source": [
    "## 1.1. CNOT and Toffoli\n",
    "\n",
    "Decompose the below adder circuit into single-qubit, CNOT, and Toffoli gates (by hand or with code).  **How many of each gate are used in the resulting circuit?**\n",
    "\n",
    "If you choose to use Qiskit, check out `qiskit.transpiler.PassManager` and `qiskit.transpiler.passes.Unroller`.  Inspect the gates in a circuit with `list(circuit)`."
   ]
  },
  {
   "cell_type": "code",
   "execution_count": 5,
   "id": "vanilla-nylon",
   "metadata": {},
   "outputs": [
    {
     "name": "stdout",
     "output_type": "stream",
     "text": [
      "Cuccaro Adder:\n"
     ]
    },
    {
     "data": {
      "text/html": [
       "<pre style=\"word-wrap: normal;white-space: pre;background: #fff0;line-height: 1.1;font-family: &quot;Courier New&quot;,Courier,monospace\">        ┌──────┐                                       ┌───────┐\n",
       "  c_in: ┤0     ├───────────────────────────────────────┤0      ├\n",
       "        │      │                                       │       │\n",
       "b->s_0: ┤1     ├───────────────────────────────────────┤1      ├\n",
       "        │      │┌──────┐                      ┌───────┐│       │\n",
       "b->s_1: ┤  MAJ ├┤1     ├──────────────────────┤1      ├┤  UMA3 ├\n",
       "        │      ││      │┌──────┐     ┌───────┐│       ││       │\n",
       "b->s_2: ┤      ├┤      ├┤1     ├─────┤1      ├┤       ├┤       ├\n",
       "        │      ││  MAJ ││      │     │       ││  UMA3 ││       │\n",
       "   a_0: ┤2     ├┤0     ├┤      ├─────┤       ├┤0      ├┤2      ├\n",
       "        └──────┘│      ││  MAJ │     │  UMA3 ││       │└───────┘\n",
       "   a_1: ────────┤2     ├┤0     ├─────┤0      ├┤2      ├─────────\n",
       "                └──────┘│      │     │       │└───────┘         \n",
       "   a_2: ────────────────┤2     ├──■──┤2      ├──────────────────\n",
       "                        └──────┘┌─┴─┐└───────┘                  \n",
       " c_out: ────────────────────────┤ X ├───────────────────────────\n",
       "                                └───┘                           </pre>"
      ],
      "text/plain": [
       "        ┌──────┐                                       ┌───────┐\n",
       "  c_in: ┤0     ├───────────────────────────────────────┤0      ├\n",
       "        │      │                                       │       │\n",
       "b->s_0: ┤1     ├───────────────────────────────────────┤1      ├\n",
       "        │      │┌──────┐                      ┌───────┐│       │\n",
       "b->s_1: ┤  MAJ ├┤1     ├──────────────────────┤1      ├┤  UMA3 ├\n",
       "        │      ││      │┌──────┐     ┌───────┐│       ││       │\n",
       "b->s_2: ┤      ├┤      ├┤1     ├─────┤1      ├┤       ├┤       ├\n",
       "        │      ││  MAJ ││      │     │       ││  UMA3 ││       │\n",
       "   a_0: ┤2     ├┤0     ├┤      ├─────┤       ├┤0      ├┤2      ├\n",
       "        └──────┘│      ││  MAJ │     │  UMA3 ││       │└───────┘\n",
       "   a_1: ────────┤2     ├┤0     ├─────┤0      ├┤2      ├─────────\n",
       "                └──────┘│      │     │       │└───────┘         \n",
       "   a_2: ────────────────┤2     ├──■──┤2      ├──────────────────\n",
       "                        └──────┘┌─┴─┐└───────┘                  \n",
       " c_out: ────────────────────────┤ X ├───────────────────────────\n",
       "                                └───┘                           "
      ]
     },
     "execution_count": 5,
     "metadata": {},
     "output_type": "execute_result"
    }
   ],
   "source": [
    "print('Cuccaro Adder:')\n",
    "cuccaro8 = generate_adder_circuit(8)\n",
    "cuccaro8.draw(fold=-1)"
   ]
  },
  {
   "cell_type": "code",
   "execution_count": 6,
   "id": "understanding-voltage",
   "metadata": {},
   "outputs": [],
   "source": [
    "# Scratch space\n",
    "from qiskit.transpiler import PassManager\n",
    "from qiskit.transpiler.passes import Unroller\n",
    "\n",
    "unrolling_pass = Unroller(['x', 'cx', 'ccx'])\n",
    "pm = PassManager(unrolling_pass)\n",
    "unrolled_circuit = pm.run(cuccaro8)"
   ]
  },
  {
   "cell_type": "code",
   "execution_count": 7,
   "id": "a409ab02",
   "metadata": {},
   "outputs": [
    {
     "data": {
      "image/png": "[encoded data removed]",
      "text/plain": [
       "<Figure size 1386.56x505.68 with 1 Axes>"
      ]
     },
     "execution_count": 7,
     "metadata": {},
     "output_type": "execute_result"
    }
   ],
   "source": [
    "unrolled_circuit.draw(output = 'mpl')"
   ]
  },
  {
   "cell_type": "code",
   "execution_count": 8,
   "id": "electrical-scott",
   "metadata": {
    "deletable": false,
    "nbgrader": {
     "cell_type": "code",
     "checksum": "ec5a0789957bc7e7afc1f41dd84a97bd",
     "grade": false,
     "grade_id": "1-1",
     "locked": false,
     "schema_version": 3,
     "solution": true,
     "task": false
    }
   },
   "outputs": [
    {
     "name": "stdout",
     "output_type": "stream",
     "text": [
      "6 single-qubit (X), 16 CNOT, and 6 Toffoli gates\n"
     ]
    }
   ],
   "source": [
    "# Give your counts here\n",
    "count_x_1 = 6\n",
    "count_cnot_1 = 16\n",
    "count_toffoli_1 = 6\n",
    "# YOUR CODE HERE\n",
    "\n",
    "print(f'{count_x_1} single-qubit (X), {count_cnot_1} CNOT, '\n",
    "      f'and {count_toffoli_1} Toffoli gates')"
   ]
  },
  {
   "cell_type": "code",
   "execution_count": 9,
   "id": "bizarre-scott",
   "metadata": {
    "deletable": false,
    "editable": false,
    "nbgrader": {
     "cell_type": "code",
     "checksum": "8211da0b93c2649af27c3be98ffcfb4c",
     "grade": true,
     "grade_id": "1-1a-test",
     "locked": true,
     "points": 5,
     "schema_version": 3,
     "solution": false,
     "task": false
    }
   },
   "outputs": [
    {
     "name": "stdout",
     "output_type": "stream",
     "text": [
      "PASS\n"
     ]
    }
   ],
   "source": [
    "# Do not delete this cell\n",
    "# The autograder will test the value stored in `count_x_1`.\n",
    "assert 0 <= count_x_1 <= 100, 'count_x_1 must be an integer in this range'\n",
    "# Rejects most incorrect answers without giving away the correct answer\n",
    "assert count_x_1 % 5 == 1, 'Incorrect answer'\n",
    "# Hidden test\n",
    "print('PASS')"
   ]
  },
  {
   "cell_type": "code",
   "execution_count": 10,
   "id": "living-investigation",
   "metadata": {
    "deletable": false,
    "editable": false,
    "nbgrader": {
     "cell_type": "code",
     "checksum": "0c936ec6c214a055034ec65566b2b724",
     "grade": true,
     "grade_id": "1-1b-test",
     "locked": true,
     "points": 5,
     "schema_version": 3,
     "solution": false,
     "task": false
    }
   },
   "outputs": [
    {
     "name": "stdout",
     "output_type": "stream",
     "text": [
      "PASS\n"
     ]
    }
   ],
   "source": [
    "# Do not delete this cell\n",
    "# The autograder will test the value stored in `count_cnot_1`.\n",
    "assert 0 <= count_cnot_1 <= 100, 'count_cnot_1 must be an integer in this range'\n",
    "# Rejects most incorrect answers without giving away the correct answer\n",
    "assert count_cnot_1 % 5 == 1, 'Incorrect answer'\n",
    "# Hidden test\n",
    "print('PASS')"
   ]
  },
  {
   "cell_type": "code",
   "execution_count": 11,
   "id": "encouraging-genre",
   "metadata": {
    "deletable": false,
    "editable": false,
    "nbgrader": {
     "cell_type": "code",
     "checksum": "aba7c8265b0eeeca4141a2c98cdae39d",
     "grade": true,
     "grade_id": "1-1c-test",
     "locked": true,
     "points": 5,
     "schema_version": 3,
     "solution": false,
     "task": false
    }
   },
   "outputs": [
    {
     "name": "stdout",
     "output_type": "stream",
     "text": [
      "PASS\n"
     ]
    }
   ],
   "source": [
    "# Do not delete this cell\n",
    "# The autograder will test the value stored in `count_toffoli_1`.\n",
    "assert 0 <= count_toffoli_1 <= 100, 'count_toffoli_1 must be an integer in this range'\n",
    "# Rejects most incorrect answers without giving away the correct answer\n",
    "assert count_toffoli_1 % 5 == 1, 'Incorrect answer'\n",
    "# Hidden test\n",
    "print('PASS')"
   ]
  },
  {
   "cell_type": "markdown",
   "id": "protected-structure",
   "metadata": {},
   "source": [
    "## 1.2. CNOT Only\n",
    "\n",
    "Toffoli gates are typically further decomposed into single-qubit and CNOT gates as shown below.  Decompose the same adder circuit from the previous question into only single-qubit and CNOT gates (by hand or with code).  **How many of each gate are used in the resulting circuit?**\n",
    "\n",
    "Qiskit always uses the 6-CNOT decomposition but for these questions, **use the 8-CNOT Toffoli decomposition**."
   ]
  },
  {
   "cell_type": "code",
   "execution_count": 12,
   "id": "arctic-allah",
   "metadata": {},
   "outputs": [
    {
     "name": "stdout",
     "output_type": "stream",
     "text": [
      "Toffoli (6 CNOT decomposition):\n"
     ]
    },
    {
     "data": {
      "text/html": [
       "<pre style=\"word-wrap: normal;white-space: pre;background: #fff0;line-height: 1.1;font-family: &quot;Courier New&quot;,Courier,monospace\">                                                       ┌───┐      \n",
       "q_0: ───────────────────■─────────────────────■────■───┤ T ├───■──\n",
       "                        │             ┌───┐   │  ┌─┴─┐┌┴───┴┐┌─┴─┐\n",
       "q_1: ───────■───────────┼─────────■───┤ T ├───┼──┤ X ├┤ Tdg ├┤ X ├\n",
       "     ┌───┐┌─┴─┐┌─────┐┌─┴─┐┌───┐┌─┴─┐┌┴───┴┐┌─┴─┐├───┤└┬───┬┘└───┘\n",
       "q_2: ┤ H ├┤ X ├┤ Tdg ├┤ X ├┤ T ├┤ X ├┤ Tdg ├┤ X ├┤ T ├─┤ H ├──────\n",
       "     └───┘└───┘└─────┘└───┘└───┘└───┘└─────┘└───┘└───┘ └───┘      </pre>"
      ],
      "text/plain": [
       "                                                       ┌───┐      \n",
       "q_0: ───────────────────■─────────────────────■────■───┤ T ├───■──\n",
       "                        │             ┌───┐   │  ┌─┴─┐┌┴───┴┐┌─┴─┐\n",
       "q_1: ───────■───────────┼─────────■───┤ T ├───┼──┤ X ├┤ Tdg ├┤ X ├\n",
       "     ┌───┐┌─┴─┐┌─────┐┌─┴─┐┌───┐┌─┴─┐┌┴───┴┐┌─┴─┐├───┤└┬───┬┘└───┘\n",
       "q_2: ┤ H ├┤ X ├┤ Tdg ├┤ X ├┤ T ├┤ X ├┤ Tdg ├┤ X ├┤ T ├─┤ H ├──────\n",
       "     └───┘└───┘└─────┘└───┘└───┘└───┘└─────┘└───┘└───┘ └───┘      "
      ]
     },
     "execution_count": 12,
     "metadata": {},
     "output_type": "execute_result"
    }
   ],
   "source": [
    "# Popular Toffoli decomposition\n",
    "# Do not use for this question\n",
    "toffoli6cx_c = QuantumCircuit.from_qasm_str('OPENQASM 2.0;\\ninclude \"qelib1.inc\";\\nqreg q[3];\\nh q[2];\\ncx q[1],q[2];\\ntdg q[2];\\ncx q[0],q[2];\\nt q[2];\\ncx q[1],q[2];\\ntdg q[2];\\ncx q[0],q[2];\\nt q[1];\\nt q[2];\\ncx q[0],q[1];\\nt q[0];\\ntdg q[1];\\nh q[2];\\ncx q[0],q[1];\\n')\n",
    "print('Toffoli (6 CNOT decomposition):')\n",
    "toffoli6cx_c.draw(fold=-1)"
   ]
  },
  {
   "cell_type": "code",
   "execution_count": 13,
   "id": "fitted-disaster",
   "metadata": {},
   "outputs": [
    {
     "name": "stdout",
     "output_type": "stream",
     "text": [
      "Toffoli (8 CNOT decomposition):\n"
     ]
    },
    {
     "data": {
      "text/html": [
       "<pre style=\"word-wrap: normal;white-space: pre;background: #fff0;line-height: 1.1;font-family: &quot;Courier New&quot;,Courier,monospace\">     ┌───┐                                                      \n",
       "q_0: ┤ T ├──■─────────■──────────■─────────────────■────────────\n",
       "     ├───┤┌─┴─┐     ┌─┴─┐      ┌─┴─┐      ┌─────┐┌─┴─┐          \n",
       "q_1: ┤ T ├┤ X ├──■──┤ X ├──■───┤ X ├───■──┤ Tdg ├┤ X ├──■───────\n",
       "     ├───┤├───┤┌─┴─┐├───┤┌─┴─┐┌┴───┴┐┌─┴─┐├─────┤└───┘┌─┴─┐┌───┐\n",
       "q_2: ┤ H ├┤ T ├┤ X ├┤ T ├┤ X ├┤ Tdg ├┤ X ├┤ Tdg ├─────┤ X ├┤ H ├\n",
       "     └───┘└───┘└───┘└───┘└───┘└─────┘└───┘└─────┘     └───┘└───┘</pre>"
      ],
      "text/plain": [
       "     ┌───┐                                                      \n",
       "q_0: ┤ T ├──■─────────■──────────■─────────────────■────────────\n",
       "     ├───┤┌─┴─┐     ┌─┴─┐      ┌─┴─┐      ┌─────┐┌─┴─┐          \n",
       "q_1: ┤ T ├┤ X ├──■──┤ X ├──■───┤ X ├───■──┤ Tdg ├┤ X ├──■───────\n",
       "     ├───┤├───┤┌─┴─┐├───┤┌─┴─┐┌┴───┴┐┌─┴─┐├─────┤└───┘┌─┴─┐┌───┐\n",
       "q_2: ┤ H ├┤ T ├┤ X ├┤ T ├┤ X ├┤ Tdg ├┤ X ├┤ Tdg ├─────┤ X ├┤ H ├\n",
       "     └───┘└───┘└───┘└───┘└───┘└─────┘└───┘└─────┘     └───┘└───┘"
      ]
     },
     "execution_count": 13,
     "metadata": {},
     "output_type": "execute_result"
    }
   ],
   "source": [
    "# An alternative Toffoli decomposition\n",
    "toffoli8cx_c = QuantumCircuit.from_qasm_str('OPENQASM 2.0;\\ninclude \"qelib1.inc\";\\nqreg q[3];\\nh q[2];\\nt q[0];\\nt q[1];\\nt q[2];\\ncx q[0],q[1];\\ncx q[1],q[2];\\nt q[2];\\ncx q[0],q[1];\\ncx q[1],q[2];\\ntdg q[2];\\ncx q[0],q[1];\\ncx q[1],q[2];\\ntdg q[1];\\ntdg q[2];\\ncx q[0],q[1];\\ncx q[1],q[2];\\nh q[2];\\n')\n",
    "print('Toffoli (8 CNOT decomposition):')\n",
    "toffoli8cx_c.draw(fold=-1)"
   ]
  },
  {
   "cell_type": "code",
   "execution_count": 14,
   "id": "dc3ee949",
   "metadata": {},
   "outputs": [
    {
     "data": {
      "image/png": "[encoded data removed]",
      "text/plain": [
       "<Figure size 1386.56x505.68 with 1 Axes>"
      ]
     },
     "execution_count": 14,
     "metadata": {},
     "output_type": "execute_result"
    }
   ],
   "source": [
    "unrolled_circuit.draw(output = 'mpl')"
   ]
  },
  {
   "cell_type": "code",
   "execution_count": 15,
   "id": "quiet-liverpool",
   "metadata": {},
   "outputs": [],
   "source": [
    "# Scratch space\n",
    "\n",
    "#maj has one toffoli, 2 cnots \n",
    "#uma2 has one toffoli, 2 cnots\n",
    "#uma3 has one toffoli, 3 cnots, 2 x"
   ]
  },
  {
   "cell_type": "code",
   "execution_count": 16,
   "id": "thorough-closing",
   "metadata": {
    "deletable": false,
    "nbgrader": {
     "cell_type": "code",
     "checksum": "722e775cf206a1e7b13e87a8676cfadf",
     "grade": false,
     "grade_id": "1-2",
     "locked": false,
     "schema_version": 3,
     "solution": true,
     "task": false
    }
   },
   "outputs": [
    {
     "name": "stdout",
     "output_type": "stream",
     "text": [
      "6 X, 12 Hadamard, 42 T and inverse-T, 64 CNOT, and no Toffoli gates\n"
     ]
    }
   ],
   "source": [
    "# Give your counts for X, H, (T and T dagger), and CNOT here\n",
    "count_x_2 = count_x_1\n",
    "count_hadamard_2 = count_toffoli_1*2\n",
    "count_t_and_tdag_2 = count_toffoli_1*7\n",
    "count_cnot_2 = count_cnot_1 + count_toffoli_1*8\n",
    "# YOUR CODE HERE\n",
    "\n",
    "print(f'{count_x_2} X, {count_hadamard_2} Hadamard, '\n",
    "      f'{count_t_and_tdag_2} T and inverse-T, '\n",
    "      f'{count_cnot_2} CNOT, and no Toffoli gates')"
   ]
  },
  {
   "cell_type": "code",
   "execution_count": 17,
   "id": "blocked-triple",
   "metadata": {
    "deletable": false,
    "editable": false,
    "nbgrader": {
     "cell_type": "code",
     "checksum": "a2c8fdbf3ffb7ec65a6dd817de1febf0",
     "grade": true,
     "grade_id": "1-2a-test",
     "locked": true,
     "points": 5,
     "schema_version": 3,
     "solution": false,
     "task": false
    }
   },
   "outputs": [
    {
     "name": "stdout",
     "output_type": "stream",
     "text": [
      "PASS\n"
     ]
    }
   ],
   "source": [
    "# Do not delete this cell\n",
    "# The autograder will test the value stored in `count_hadamard_2`.\n",
    "assert 0 <= count_hadamard_2 <= 100, 'count_hadamard_2 must be an integer in this range'\n",
    "# Rejects most incorrect answers without giving away the correct answer\n",
    "assert count_hadamard_2 % 10 == 2, 'Incorrect answer'\n",
    "# Hidden test\n",
    "print('PASS')"
   ]
  },
  {
   "cell_type": "code",
   "execution_count": 18,
   "id": "outdoor-annual",
   "metadata": {
    "deletable": false,
    "editable": false,
    "nbgrader": {
     "cell_type": "code",
     "checksum": "55699b1f618ff5911a730a70f54f5d4d",
     "grade": true,
     "grade_id": "1-2b-test",
     "locked": true,
     "points": 5,
     "schema_version": 3,
     "solution": false,
     "task": false
    }
   },
   "outputs": [
    {
     "name": "stdout",
     "output_type": "stream",
     "text": [
      "PASS\n"
     ]
    }
   ],
   "source": [
    "# Do not delete this cell\n",
    "# The autograder will test the value stored in `count_t_and_tdag_2`.\n",
    "assert 0 <= count_t_and_tdag_2 <= 100, 'count_t_and_tdag_2 must be an integer in this range'\n",
    "# Rejects most incorrect answers without giving away the correct answer\n",
    "assert count_t_and_tdag_2 % 10 == 2, 'Incorrect answer'\n",
    "# Hidden test\n",
    "print('PASS')"
   ]
  },
  {
   "cell_type": "code",
   "execution_count": 19,
   "id": "beneficial-platform",
   "metadata": {
    "deletable": false,
    "editable": false,
    "nbgrader": {
     "cell_type": "code",
     "checksum": "8054ae78ef2c781dfe3a72d1dbadef03",
     "grade": true,
     "grade_id": "1-2c-test",
     "locked": true,
     "points": 5,
     "schema_version": 3,
     "solution": false,
     "task": false
    }
   },
   "outputs": [
    {
     "name": "stdout",
     "output_type": "stream",
     "text": [
      "PASS\n"
     ]
    }
   ],
   "source": [
    "# Do not delete this cell\n",
    "# The autograder will test the value stored in `count_cnot_2`.\n",
    "assert 0 <= count_cnot_2 <= 100, 'count_cnot_2 must be an integer in this range'\n",
    "# Rejects most incorrect answers without giving away the correct answer\n",
    "assert count_cnot_2 % 10 == 4, 'Incorrect answer'\n",
    "# Hidden test\n",
    "print('PASS')"
   ]
  },
  {
   "cell_type": "markdown",
   "id": "selective-shepherd",
   "metadata": {},
   "source": [
    "## 1.3. Controlled Circuit\n",
    "\n",
    "Some applications of an adder circuit require that it execute and not execute in superposition.  That is, when a control qubit is $|1\\rangle$, take $|a, b\\rangle\\rightarrow|a, a+b\\rangle$ but when the control qubit is $|0\\rangle$, take $|a, b\\rangle\\rightarrow|a, b\\rangle$.\n",
    "This construction can also be used to build a multiplier out of adders.\n",
    "\n",
    "A simple (but not the most efficient) method to decompose a circuit with an added control qubit is to *distribute* that control to each gate of the original decomposition.  In the previous question, you generated a circuit containing only CNOT, X, H, T, and T$^\\dagger$ gates.  By adding a control to each, you get a circuit containing Toffoli, CNOT, controlled-H, controlled-T, and controlled-T$^\\dagger$ gates.\n",
    "\n",
    "When you fully decompose this 8-qubit controlled-Cuccaro adder into only CNOT and single-qubit gates, **how many total CNOT gates are used?**  (Don't bother counting the single-qubit gates this time.)  The decompositions for controlled-H and controlled-T are given below.  Use the 8-CNOT Toffoli decomposition again.\n",
    "\n",
    "You may want to use the variables `count_x_2`, `count_hadamard_2`, `count_t_and_tdag_2`, `count_cnot_2`.  The variables `cnots_per_controlled_h` and `cnots_per_controlled_t_and_tdag` given below may also be useful."
   ]
  },
  {
   "cell_type": "code",
   "execution_count": 20,
   "id": "cellular-resident",
   "metadata": {},
   "outputs": [
    {
     "data": {
      "text/html": [
       "<pre style=\"word-wrap: normal;white-space: pre;background: #fff0;line-height: 1.1;font-family: &quot;Courier New&quot;,Courier,monospace\">             ┌───┐          ░             ┌─┐\n",
       "       cont: ┤ H ├────■─────░─────────────┤M├\n",
       "             └───┘┌───┴───┐ ░             └╥┘\n",
       "       c_in: ─────┤0      ├─░──────────────╫─\n",
       "             ┌───┐│       │ ░ ┌─┐          ║ \n",
       "     b->s_0: ┤ X ├┤1      ├─░─┤M├──────────╫─\n",
       "             ├───┤│       │ ░ └╥┘┌─┐       ║ \n",
       "     b->s_1: ┤ X ├┤2      ├─░──╫─┤M├───────╫─\n",
       "             └───┘│       │ ░  ║ └╥┘┌─┐    ║ \n",
       "     b->s_2: ─────┤3      ├─░──╫──╫─┤M├────╫─\n",
       "                  │  CUCC │ ░  ║  ║ └╥┘    ║ \n",
       "        a_0: ─────┤4      ├─░──╫──╫──╫─────╫─\n",
       "             ┌───┐│       │ ░  ║  ║  ║     ║ \n",
       "        a_1: ┤ X ├┤5      ├─░──╫──╫──╫─────╫─\n",
       "             └───┘│       │ ░  ║  ║  ║     ║ \n",
       "        a_2: ─────┤6      ├─░──╫──╫──╫─────╫─\n",
       "                  │       │ ░  ║  ║  ║ ┌─┐ ║ \n",
       "      c_out: ─────┤7      ├─░──╫──╫──╫─┤M├─╫─\n",
       "                  └───────┘ ░  ║  ║  ║ └╥┘ ║ \n",
       "      sum: 4/══════════════════╩══╩══╩══╩══╬═\n",
       "                               0  1  2  3  ║ \n",
       "                                           ║ \n",
       "cont_meas: 1/══════════════════════════════╩═\n",
       "                                           0 </pre>"
      ],
      "text/plain": [
       "             ┌───┐          ░             ┌─┐\n",
       "       cont: ┤ H ├────■─────░─────────────┤M├\n",
       "             └───┘┌───┴───┐ ░             └╥┘\n",
       "       c_in: ─────┤0      ├─░──────────────╫─\n",
       "             ┌───┐│       │ ░ ┌─┐          ║ \n",
       "     b->s_0: ┤ X ├┤1      ├─░─┤M├──────────╫─\n",
       "             ├───┤│       │ ░ └╥┘┌─┐       ║ \n",
       "     b->s_1: ┤ X ├┤2      ├─░──╫─┤M├───────╫─\n",
       "             └───┘│       │ ░  ║ └╥┘┌─┐    ║ \n",
       "     b->s_2: ─────┤3      ├─░──╫──╫─┤M├────╫─\n",
       "                  │  CUCC │ ░  ║  ║ └╥┘    ║ \n",
       "        a_0: ─────┤4      ├─░──╫──╫──╫─────╫─\n",
       "             ┌───┐│       │ ░  ║  ║  ║     ║ \n",
       "        a_1: ┤ X ├┤5      ├─░──╫──╫──╫─────╫─\n",
       "             └───┘│       │ ░  ║  ║  ║     ║ \n",
       "        a_2: ─────┤6      ├─░──╫──╫──╫─────╫─\n",
       "                  │       │ ░  ║  ║  ║ ┌─┐ ║ \n",
       "      c_out: ─────┤7      ├─░──╫──╫──╫─┤M├─╫─\n",
       "                  └───────┘ ░  ║  ║  ║ └╥┘ ║ \n",
       "      sum: 4/══════════════════╩══╩══╩══╩══╬═\n",
       "                               0  1  2  3  ║ \n",
       "                                           ║ \n",
       "cont_meas: 1/══════════════════════════════╩═\n",
       "                                           0 "
      ]
     },
     "metadata": {},
     "output_type": "display_data"
    },
    {
     "data": {
      "text/plain": [
       "{'1 0101': 60, '0 0011': 68}"
      ]
     },
     "execution_count": 20,
     "metadata": {},
     "output_type": "execute_result"
    }
   ],
   "source": [
    "# Try it out!\n",
    "n = 8\n",
    "control = QuantumRegister(1, 'cont')\n",
    "cin = QuantumRegister(1, 'c_in')\n",
    "a = QuantumRegister(n//2-1, 'a')\n",
    "b = QuantumRegister(n//2-1, 'b->s')\n",
    "cout = QuantumRegister(1, 'c_out')\n",
    "creg = ClassicalRegister(n//2, 'sum')\n",
    "creg2 = ClassicalRegister(1, 'cont_meas')\n",
    "controlled_demo = QuantumCircuit(control, cin, b, a, cout, creg, creg2)\n",
    "\n",
    "# Test on a specific input\n",
    "# carry-in=0 CHANGE ME!\n",
    "###controlled_demo.x(cin[0])\n",
    "\n",
    "# a=2 (0b010) CHANGE ME!\n",
    "###controlled_demo.x(a[0])\n",
    "controlled_demo.x(a[1])\n",
    "###controlled_demo.x(a[2])\n",
    "\n",
    "# b=3 (0b011) CHANGE ME!\n",
    "controlled_demo.x(b[0])\n",
    "controlled_demo.x(b[1])\n",
    "###controlled_demo.x(b[2])\n",
    "\n",
    "controlled_demo.h(control)\n",
    "\n",
    "cuccaro8 = generate_adder_circuit(8)\n",
    "controlled_demo.append(cuccaro8.to_gate(label='CUCC').control(1),\n",
    "                       [control[0], *cin, *b, *a, *cout])\n",
    "\n",
    "# Measure the result\n",
    "controlled_demo.barrier()\n",
    "controlled_demo.measure([*b, *cout], creg)\n",
    "controlled_demo.measure(control, creg2)\n",
    "\n",
    "# Show the circuit\n",
    "display(controlled_demo.draw(fold=-1))\n",
    "\n",
    "# Simulate the result\n",
    "# 0 + 2 + 3 = 5 (0b0101) if control=1\n",
    "# 3 = 3 (0b0011) if control = 0\n",
    "execute(controlled_demo, backend, shots=128).result(\n",
    "        ).get_counts(controlled_demo)"
   ]
  },
  {
   "cell_type": "code",
   "execution_count": 21,
   "id": "juvenile-heather",
   "metadata": {},
   "outputs": [
    {
     "name": "stdout",
     "output_type": "stream",
     "text": [
      "Controlled-H gate from CNOTs:\n"
     ]
    },
    {
     "data": {
      "text/html": [
       "<pre style=\"word-wrap: normal;white-space: pre;background: #fff0;line-height: 1.1;font-family: &quot;Courier New&quot;,Courier,monospace\">                                                        \n",
       "q_0: ──────────────────────────■────────────────────────\n",
       "     ┌──────────┐┌──────────┐┌─┴─┐┌─────────┐┌─────────┐\n",
       "q_1: ┤ Rx(-π/2) ├┤ Rz(-π/4) ├┤ X ├┤ Rz(π/4) ├┤ Rx(π/2) ├\n",
       "     └──────────┘└──────────┘└───┘└─────────┘└─────────┘</pre>"
      ],
      "text/plain": [
       "                                                        \n",
       "q_0: ──────────────────────────■────────────────────────\n",
       "     ┌──────────┐┌──────────┐┌─┴─┐┌─────────┐┌─────────┐\n",
       "q_1: ┤ Rx(-π/2) ├┤ Rz(-π/4) ├┤ X ├┤ Rz(π/4) ├┤ Rx(π/2) ├\n",
       "     └──────────┘└──────────┘└───┘└─────────┘└─────────┘"
      ]
     },
     "metadata": {},
     "output_type": "display_data"
    }
   ],
   "source": [
    "# Example decomposition of the controlled-H gate\n",
    "c = QuantumCircuit(2)\n",
    "c.ch(0, 1)\n",
    "print('Controlled-H gate from CNOTs:')\n",
    "display(\n",
    "    qiskit.transpile(c, basis_gates=['rz', 'rx', 'cx'])\n",
    "    .draw(fold=-1))\n",
    "\n",
    "cnots_per_controlled_h = 1"
   ]
  },
  {
   "cell_type": "code",
   "execution_count": 22,
   "id": "forced-protocol",
   "metadata": {},
   "outputs": [
    {
     "name": "stdout",
     "output_type": "stream",
     "text": [
      "Controlled-T gate from CNOTs:\n"
     ]
    },
    {
     "data": {
      "text/html": [
       "<pre style=\"word-wrap: normal;white-space: pre;background: #fff0;line-height: 1.1;font-family: &quot;Courier New&quot;,Courier,monospace\">global phase: 9π/16\n",
       "     ┌─────────┐    ┌───────┐          ┌──────────┐   ┌───────┐                      ┌───────────┐               \n",
       "q_0: ┤ Rz(π/2) ├────┤ Rx(π) ├─────■────┤ Rz(-π/2) ├───┤ Rx(π) ├─────────────────■────┤ Rz(-7π/8) ├───────────────\n",
       "     ├─────────┴┐┌──┴───────┴──┐┌─┴─┐┌─┴──────────┴┐┌─┴───────┴──┐┌──────────┐┌─┴─┐┌─┴───────────┴──┐┌──────────┐\n",
       "q_1: ┤ Rz(-π/2) ├┤ Rx(-1.5695) ├┤ X ├┤ Rz(-3.1411) ├┤ Rx(1.5709) ├┤ Rz(7π/8) ├┤ X ├┤ Rx(-0.0013233) ├┤ Rz(5π/8) ├\n",
       "     └──────────┘└─────────────┘└───┘└─────────────┘└────────────┘└──────────┘└───┘└────────────────┘└──────────┘</pre>"
      ],
      "text/plain": [
       "global phase: 9π/16\n",
       "     ┌─────────┐    ┌───────┐          ┌──────────┐   ┌───────┐                      ┌───────────┐               \n",
       "q_0: ┤ Rz(π/2) ├────┤ Rx(π) ├─────■────┤ Rz(-π/2) ├───┤ Rx(π) ├─────────────────■────┤ Rz(-7π/8) ├───────────────\n",
       "     ├─────────┴┐┌──┴───────┴──┐┌─┴─┐┌─┴──────────┴┐┌─┴───────┴──┐┌──────────┐┌─┴─┐┌─┴───────────┴──┐┌──────────┐\n",
       "q_1: ┤ Rz(-π/2) ├┤ Rx(-1.5695) ├┤ X ├┤ Rz(-3.1411) ├┤ Rx(1.5709) ├┤ Rz(7π/8) ├┤ X ├┤ Rx(-0.0013233) ├┤ Rz(5π/8) ├\n",
       "     └──────────┘└─────────────┘└───┘└─────────────┘└────────────┘└──────────┘└───┘└────────────────┘└──────────┘"
      ]
     },
     "metadata": {},
     "output_type": "display_data"
    }
   ],
   "source": [
    "# Example decomposition of the controlled-T gate\n",
    "c = QuantumCircuit(2)\n",
    "# Unitary of the controlled-T gate\n",
    "c.append(qiskit.quantum_info.Operator(np.diag([\n",
    "    1, 1, 1, np.exp(1j*np.pi/4)\n",
    "])), [0, 1])\n",
    "print('Controlled-T gate from CNOTs:')\n",
    "display(\n",
    "    qiskit.transpile(c, basis_gates=['rz', 'rx', 'cx'])\n",
    "    .draw(fold=-1))\n",
    "\n",
    "cnots_per_controlled_t_and_tdag = 2"
   ]
  },
  {
   "cell_type": "code",
   "execution_count": 23,
   "id": "0ba21278",
   "metadata": {},
   "outputs": [
    {
     "data": {
      "text/html": [
       "<pre style=\"word-wrap: normal;white-space: pre;background: #fff0;line-height: 1.1;font-family: &quot;Courier New&quot;,Courier,monospace\">        ┌──────┐                                       ┌───────┐\n",
       "  c_in: ┤0     ├───────────────────────────────────────┤0      ├\n",
       "        │      │                                       │       │\n",
       "b->s_0: ┤1     ├───────────────────────────────────────┤1      ├\n",
       "        │      │┌──────┐                      ┌───────┐│       │\n",
       "b->s_1: ┤  MAJ ├┤1     ├──────────────────────┤1      ├┤  UMA3 ├\n",
       "        │      ││      │┌──────┐     ┌───────┐│       ││       │\n",
       "b->s_2: ┤      ├┤      ├┤1     ├─────┤1      ├┤       ├┤       ├\n",
       "        │      ││  MAJ ││      │     │       ││  UMA3 ││       │\n",
       "   a_0: ┤2     ├┤0     ├┤      ├─────┤       ├┤0      ├┤2      ├\n",
       "        └──────┘│      ││  MAJ │     │  UMA3 ││       │└───────┘\n",
       "   a_1: ────────┤2     ├┤0     ├─────┤0      ├┤2      ├─────────\n",
       "                └──────┘│      │     │       │└───────┘         \n",
       "   a_2: ────────────────┤2     ├──■──┤2      ├──────────────────\n",
       "                        └──────┘┌─┴─┐└───────┘                  \n",
       " c_out: ────────────────────────┤ X ├───────────────────────────\n",
       "                                └───┘                           </pre>"
      ],
      "text/plain": [
       "        ┌──────┐                                       ┌───────┐\n",
       "  c_in: ┤0     ├───────────────────────────────────────┤0      ├\n",
       "        │      │                                       │       │\n",
       "b->s_0: ┤1     ├───────────────────────────────────────┤1      ├\n",
       "        │      │┌──────┐                      ┌───────┐│       │\n",
       "b->s_1: ┤  MAJ ├┤1     ├──────────────────────┤1      ├┤  UMA3 ├\n",
       "        │      ││      │┌──────┐     ┌───────┐│       ││       │\n",
       "b->s_2: ┤      ├┤      ├┤1     ├─────┤1      ├┤       ├┤       ├\n",
       "        │      ││  MAJ ││      │     │       ││  UMA3 ││       │\n",
       "   a_0: ┤2     ├┤0     ├┤      ├─────┤       ├┤0      ├┤2      ├\n",
       "        └──────┘│      ││  MAJ │     │  UMA3 ││       │└───────┘\n",
       "   a_1: ────────┤2     ├┤0     ├─────┤0      ├┤2      ├─────────\n",
       "                └──────┘│      │     │       │└───────┘         \n",
       "   a_2: ────────────────┤2     ├──■──┤2      ├──────────────────\n",
       "                        └──────┘┌─┴─┐└───────┘                  \n",
       " c_out: ────────────────────────┤ X ├───────────────────────────\n",
       "                                └───┘                           "
      ]
     },
     "execution_count": 23,
     "metadata": {},
     "output_type": "execute_result"
    }
   ],
   "source": [
    "cuccaro8.draw()"
   ]
  },
  {
   "cell_type": "code",
   "execution_count": 24,
   "id": "blind-feature",
   "metadata": {
    "deletable": false,
    "nbgrader": {
     "cell_type": "code",
     "checksum": "5ba530f97f1f6a37c74720a3a9529b50",
     "grade": false,
     "grade_id": "1-3",
     "locked": false,
     "schema_version": 3,
     "solution": true,
     "task": false
    }
   },
   "outputs": [
    {
     "name": "stdout",
     "output_type": "stream",
     "text": [
      "Many single-qubit and 614 CNOT gates\n"
     ]
    }
   ],
   "source": [
    "# Give the number of CNOT gates here\n",
    "count_cnot_3 = count_x_2 + count_hadamard_2*cnots_per_controlled_h + count_t_and_tdag_2*cnots_per_controlled_t_and_tdag + count_cnot_2*8\n",
    "# YOUR CODE HERE\n",
    "\n",
    "print(f'Many single-qubit and {count_cnot_3} CNOT gates')"
   ]
  },
  {
   "cell_type": "code",
   "execution_count": 25,
   "id": "weighted-third",
   "metadata": {
    "deletable": false,
    "editable": false,
    "nbgrader": {
     "cell_type": "code",
     "checksum": "46b3eaff758439111415ae3d6bc6eba3",
     "grade": true,
     "grade_id": "1-3-test",
     "locked": true,
     "points": 10,
     "schema_version": 3,
     "solution": false,
     "task": false
    }
   },
   "outputs": [
    {
     "name": "stdout",
     "output_type": "stream",
     "text": [
      "PASS\n"
     ]
    }
   ],
   "source": [
    "# Do not delete this cell\n",
    "# The autograder will test the value stored in `count_cnot_3`.\n",
    "assert 0 <= count_cnot_3 <= 999, 'count_cnot_3 must be an integer in this range'\n",
    "# Rejects most incorrect answers without giving away the correct answer\n",
    "assert count_cnot_3 % 10 == 4, 'Incorrect answer'\n",
    "# Hidden test\n",
    "print('PASS')"
   ]
  },
  {
   "cell_type": "code",
   "execution_count": 26,
   "id": "introductory-requirement",
   "metadata": {},
   "outputs": [
    {
     "name": "stdout",
     "output_type": "stream",
     "text": [
      "Comparing your answers to 1.2 and 1.3:\n",
      "Adding one control to the circuit increased the size from 64 CNOT gates to 614 CNOT gates (should be a factor of ~10x).  Is this more than you expected?\n"
     ]
    }
   ],
   "source": [
    "print('Comparing your answers to 1.2 and 1.3:')\n",
    "print('Adding one control to the circuit increased the size from '\n",
    "      f'{count_cnot_2} CNOT gates to {count_cnot_3} CNOT gates '\n",
    "      '(should be a factor of ~10x).  Is this more than you expected?')"
   ]
  },
  {
   "cell_type": "markdown",
   "id": "conditional-trash",
   "metadata": {},
   "source": [
    "Note: It is often better to distribute the control to a few key gates instead of all of them.  If these key gates are chosen right, the effects of the other gates will cancel each other out if the control is 0.\n",
    "\n",
    "For this 8-qubit Cuccaro adder, this is possible by only adding a control to four of the CNOT gates (and also adding three extra Toffolis).  This gives about a 2x overhead of adding a control instead of the 10x found above."
   ]
  },
  {
   "cell_type": "markdown",
   "id": "valuable-girlfriend",
   "metadata": {},
   "source": [
    "# 2. Ancilla\n",
    "\n",
    "In the first part, you decomposed a controlled-adder to CNOT and single-qubit gates.  By using additional workspace qubits (called ancilla), a compiler can produce a circuit with fewer gates and/or more parallelism between gates (therefore shorter runtime).  However, this is only possible if the quantum computer has more qubits than the algorithm to be compiled.\n",
    "\n",
    "The design of the Cuccaro adder you decomposed in part 1 does not use any ancilla but a compiler may choose to add some in the process of decomposing the circuit.  In this problem, you will decomposed the controlled-Cuccaro adder again, but now with ancilla.\n",
    "\n",
    "# 2.1. Multi-Controlled Not Gate&nbsp;<h4 style=\"margin-top:0;margin-left:3.7em\">(also called multi-control Toffoli or CnX for short)</h4>\n",
    "\n",
    "Let's go back to question 1.1 where you decomposed the Cuccaro adder into single-qubit, CNOT, and Toffoli gates.  Here are the gate counts you answered in 1.1 (double check that none of your code modified these variables after problem 1.1):"
   ]
  },
  {
   "cell_type": "code",
   "execution_count": 27,
   "id": "acute-click",
   "metadata": {},
   "outputs": [
    {
     "name": "stdout",
     "output_type": "stream",
     "text": [
      "Your answer from problem 1.1:\n",
      "6 single-qubit (X), 16 CNOT, and 6 Toffoli gates in the Cuccaro adder (without a control qubit)\n"
     ]
    }
   ],
   "source": [
    "print('Your answer from problem 1.1:')\n",
    "print(f'{count_x_1} single-qubit (X), {count_cnot_1} CNOT, '\n",
    "      f'and {count_toffoli_1} Toffoli gates in the Cuccaro adder '\n",
    "      '(without a control qubit)')"
   ]
  },
  {
   "cell_type": "code",
   "execution_count": 28,
   "id": "functional-detector",
   "metadata": {
    "deletable": false,
    "editable": false,
    "nbgrader": {
     "cell_type": "code",
     "checksum": "ec804bb75166233203ddf6c1728ee852",
     "grade": true,
     "grade_id": "2-1-double-check",
     "locked": true,
     "points": 0,
     "schema_version": 3,
     "solution": false,
     "task": false
    }
   },
   "outputs": [
    {
     "name": "stdout",
     "output_type": "stream",
     "text": [
      "PASS\n"
     ]
    }
   ],
   "source": [
    "# Do not delete this cell\n",
    "# This just double-checks your answers from problem 1.1 (not worth any points)\n",
    "assert 0 <= count_x_1 <= 100, 'count_x_1 must be an integer in this range'\n",
    "assert 0 <= count_cnot_1 <= 100, 'count_cnot_1 must be an integer in this range'\n",
    "assert 0 <= count_toffoli_1 <= 100, 'count_toffoli_1 must be an integer in this range'\n",
    "# Rejects most incorrect answers without giving away the correct answer\n",
    "assert count_x_1 % 5 == 1, 'Incorrect answer'\n",
    "assert count_cnot_1 % 5 == 1, 'Incorrect answer'\n",
    "assert count_toffoli_1 % 5 == 1, 'Incorrect answer'\n",
    "# Hidden tests\n",
    "print('PASS')"
   ]
  },
  {
   "cell_type": "markdown",
   "id": "human-divide",
   "metadata": {},
   "source": [
    "#### (2.1 continued)\n",
    "\n",
    "Now, add the control qubit to this decomposition from 1.1.  When you distribute the control to each of the Toffoli, CNOT, and X gates, you will get a circuit containing 3-control NOT (C3X), Toffoli, and CNOT gates respectivly.\n",
    "\n",
    "After adding the control, finish decomposing this circuit to single-qubit and CNOT gates.  You already know how to decompose Toffoli gates to CNOTs.  In lecture 4b, you saw several possible ways to decompose the C3X gate, both with and without ancilla.  Two of these decompositions are given below.\n",
    "\n",
    "For this question, count **how many CNOT gates are used by this decomposition**.  Use the 8-CNOT Toffoli decomposition and the one-ancilla C3X decomposition.  Don't bother counting the single-qubit gates."
   ]
  },
  {
   "cell_type": "code",
   "execution_count": 29,
   "id": "centered-short",
   "metadata": {},
   "outputs": [
    {
     "name": "stdout",
     "output_type": "stream",
     "text": [
      "The circuit you are decomposing:\n"
     ]
    },
    {
     "data": {
      "text/html": [
       "<pre style=\"word-wrap: normal;white-space: pre;background: #fff0;line-height: 1.1;font-family: &quot;Courier New&quot;,Courier,monospace\">                 \n",
       "  cont: ────■────\n",
       "        ┌───┴───┐\n",
       "  c_in: ┤0      ├\n",
       "        │       │\n",
       "b->s_0: ┤1      ├\n",
       "        │       │\n",
       "b->s_1: ┤2      ├\n",
       "        │       │\n",
       "b->s_2: ┤3      ├\n",
       "        │  CUCC │\n",
       "   a_0: ┤4      ├\n",
       "        │       │\n",
       "   a_1: ┤5      ├\n",
       "        │       │\n",
       "   a_2: ┤6      ├\n",
       "        │       │\n",
       " c_out: ┤7      ├\n",
       "        └───────┘</pre>"
      ],
      "text/plain": [
       "                 \n",
       "  cont: ────■────\n",
       "        ┌───┴───┐\n",
       "  c_in: ┤0      ├\n",
       "        │       │\n",
       "b->s_0: ┤1      ├\n",
       "        │       │\n",
       "b->s_1: ┤2      ├\n",
       "        │       │\n",
       "b->s_2: ┤3      ├\n",
       "        │  CUCC │\n",
       "   a_0: ┤4      ├\n",
       "        │       │\n",
       "   a_1: ┤5      ├\n",
       "        │       │\n",
       "   a_2: ┤6      ├\n",
       "        │       │\n",
       " c_out: ┤7      ├\n",
       "        └───────┘"
      ]
     },
     "metadata": {},
     "output_type": "display_data"
    }
   ],
   "source": [
    "# Show the controlled-Cuccaro adder again\n",
    "# Decompose this circuit as described\n",
    "n = 8\n",
    "control = QuantumRegister(1, 'cont')\n",
    "cin = QuantumRegister(1, 'c_in')\n",
    "a = QuantumRegister(n//2-1, 'a')\n",
    "b = QuantumRegister(n//2-1, 'b->s')\n",
    "cout = QuantumRegister(1, 'c_out')\n",
    "controlled_cucc = QuantumCircuit(control, cin, b, a, cout)\n",
    "\n",
    "cuccaro8 = generate_adder_circuit(8)\n",
    "controlled_cucc.append(cuccaro8.to_gate(label='CUCC').control(1),\n",
    "                       [control[0], *cin, *b, *a, *cout])\n",
    "print('The circuit you are decomposing:')\n",
    "display(controlled_cucc.draw(fold=-1))"
   ]
  },
  {
   "cell_type": "code",
   "execution_count": 30,
   "id": "hollywood-press",
   "metadata": {},
   "outputs": [
    {
     "name": "stdout",
     "output_type": "stream",
     "text": [
      "C3X decomposition (no ancilla):\n"
     ]
    },
    {
     "data": {
      "text/html": [
       "<pre style=\"word-wrap: normal;white-space: pre;background: #fff0;line-height: 1.1;font-family: &quot;Courier New&quot;,Courier,monospace\">                                                                                           ┌───┐               ┌───┐               ┌───┐               ┌───┐                                                  ┌───┐               ┌───┐               ┌───┐                    ┌───┐                              ┌───┐┌───┐                         ┌───┐┌───┐                                               ┌───┐┌───┐   ┌───┐                        ┌───┐               ┌───┐               ┌───┐               ┌───┐                                                  ┌───┐               ┌───┐               ┌───┐                    ┌───┐                              ┌───┐┌───┐                         ┌───┐┌───┐                                         ┌───┐┌───┐┌───┐┌─────────┐\n",
       "q_0: ───────■────────────────────────────────■─────────────────────────────────────■────■──┤ X ├──■─────────■──┤ X ├───────■───────┤ X ├──■─────────■──┤ X ├───────■──────────────■─────────■─────────■───────┤ X ├──■─────────■──┤ X ├───────■───────┤ X ├──■─────────■───────┤ X ├───────■──────────────■───────┤ X ├┤ X ├──■────■─────────■────■──┤ X ├┤ X ├──■────■─────────────────────■─────────■───────┤ X ├┤ X ├───┤ X ├──────■─────────■───────┤ X ├──■─────────■──┤ X ├───────■───────┤ X ├──■─────────■──┤ X ├───────■──────────────■─────────■─────────■───────┤ X ├──■─────────■──┤ X ├───────■───────┤ X ├──■─────────■───────┤ X ├───────■──────────────■───────┤ X ├┤ X ├──■────■─────────■────■──┤ X ├┤ X ├──■────■──────────────■───────────────■──┤ X ├┤ X ├┤ X ├┤ Rz(π/8) ├\n",
       "            │                                │     ┌───┐                           │    │  └─┬─┘┌─┴─┐     ┌─┴─┐└─┬─┘       │  ┌───┐└─┬─┘┌─┴─┐     ┌─┴─┐└─┬─┘       │              │  ┌───┐  │         │       └─┬─┘┌─┴─┐     ┌─┴─┐└─┬─┘       │  ┌───┐└─┬─┘┌─┴─┐     ┌─┴─┐     └─┬─┘       │              │  ┌───┐└─┬─┘└─┬─┘  │    │  ┌───┐  │    │  └─┬─┘└─┬─┘  │    │  ┌───┐┌──────────┐  │  ┌───┐  │  ┌───┐└─┬─┘└─┬─┘   └───┘      │         │       └─┬─┘┌─┴─┐     ┌─┴─┐└─┬─┘       │  ┌───┐└─┬─┘┌─┴─┐     ┌─┴─┐└─┬─┘       │              │  ┌───┐  │         │       └─┬─┘┌─┴─┐     ┌─┴─┐└─┬─┘       │  ┌───┐└─┬─┘┌─┴─┐     ┌─┴─┐     └─┬─┘       │              │  ┌───┐└─┬─┘└─┬─┘  │    │  ┌───┐  │    │  └─┬─┘└─┬─┘  │    │  ┌───┐┌───┐  │  ┌─────────┐  │  └─┬─┘└─┬─┘└───┘└─────────┘\n",
       "q_1: ───────■────────────────────────────────■─────┤ X ├───────────────────────────┼────┼────■──┤ X ├──■──┤ X ├──■────■────┼──┤ X ├──■──┤ X ├──■──┤ X ├──■────■────┼──────────────■──┤ X ├──┼─────────┼─────────■──┤ X ├──■──┤ X ├──■────■────┼──┤ X ├──■──┤ X ├──■──┤ X ├───────■────■────┼──────────────■──┤ X ├──┼────┼────┼────┼──┤ X ├──┼────┼────┼────┼────┼────┼──┤ X ├┤ Rz(-π/8) ├──┼──┤ X ├──┼──┤ X ├──┼────┼────────────────┼─────────┼─────────■──┤ X ├──■──┤ X ├──■────■────┼──┤ X ├──■──┤ X ├──■──┤ X ├──■────■────┼──────────────■──┤ X ├──┼─────────┼─────────■──┤ X ├──■──┤ X ├──■────■────┼──┤ X ├──■──┤ X ├──■──┤ X ├───────■────■────┼──────────────■──┤ X ├──┼────┼────┼────┼──┤ X ├──┼────┼────┼────┼────┼────┼──┤ X ├┤ X ├──┼──┤ Rz(π/8) ├──┼────┼────┼──────────────────\n",
       "            │                                │     └───┘            ┌───┐          │    │    │  └─┬─┘┌─┴─┐└─┬─┘  │    │    │  └───┘  │  └─┬─┘┌─┴─┐└─┬─┘  │    │    │       ┌───┐  │  ├───┤  │  ┌───┐  │  ┌───┐  │  └─┬─┘┌─┴─┐└─┬─┘  │    │    │  └───┘  │  └─┬─┘┌─┴─┐└─┬─┘┌───┐  │    │    │       ┌───┐  │  ├───┤  │    │  ┌─┴─┐  │  └─┬─┘  │  ┌─┴─┐  │    │  ┌─┴─┐  │  └─┬─┘└──────────┘  │  └───┘┌─┴─┐└───┘  │    │  ┌──────────┐  │  ┌───┐  │  ┌───┐  │  └─┬─┘┌─┴─┐└─┬─┘  │    │    │  └───┘  │  └─┬─┘┌─┴─┐└─┬─┘  │    │    │       ┌───┐  │  ├───┤  │  ┌───┐  │  ┌───┐  │  └─┬─┘┌─┴─┐└─┬─┘  │    │    │  └───┘  │  └─┬─┘┌─┴─┐└─┬─┘┌───┐  │    │    │       ┌───┐  │  ├───┤  │    │  ┌─┴─┐  │  └─┬─┘  │  ┌─┴─┐  │    │  ┌─┴─┐  │  └─┬─┘└───┘  │  └─────────┘┌─┴─┐  │    │  ┌───┐┌─────────┐\n",
       "q_2: ───────┼────────────────■───────────────┼────────────────■─────┤ X ├──────────┼────┼────┼────┼──┤ X ├──┼────┼────┼────┼─────────┼────┼──┤ X ├──┼────┼────┼────┼───────┤ X ├──┼──┤ X ├──┼──┤ X ├──┼──┤ X ├──┼────┼──┤ X ├──┼────┼────┼────┼─────────┼────┼──┤ X ├──┼──┤ X ├──┼────┼────┼───────┤ X ├──┼──┤ X ├──■────■──┤ X ├──■────┼────■──┤ X ├──┼────■──┤ X ├──■────┼────────────────■───────┤ X ├───────┼────■──┤ Rz(-π/4) ├──┼──┤ X ├──┼──┤ X ├──┼────┼──┤ X ├──┼────┼────┼────┼─────────┼────┼──┤ X ├──┼────┼────┼────┼───────┤ X ├──┼──┤ X ├──┼──┤ X ├──┼──┤ X ├──┼────┼──┤ X ├──┼────┼────┼────┼─────────┼────┼──┤ X ├──┼──┤ X ├──┼────┼────┼───────┤ X ├──┼──┤ X ├──■────■──┤ X ├──■────┼────■──┤ X ├──┼────■──┤ X ├──■────┼─────────■─────────────┤ X ├──┼────■──┤ X ├┤ Rz(π/4) ├\n",
       "     ┌───┐┌─┴─┐┌──────────┐┌─┴─┐┌─────────┐┌─┴─┐┌──────────┐┌─┴─┐┌──┴───┴──┐┌───┐┌─┴─┐┌─┴─┐  │    │  └───┘  │    │  ┌─┴─┐┌─┴─┐       │    │  └───┘  │    │  ┌─┴─┐┌─┴─┐┌───┐└─┬─┘┌─┴─┐└─┬─┘┌─┴─┐└───┘┌─┴─┐└───┘  │    │  └───┘  │    │  ┌─┴─┐┌─┴─┐       │    │  └───┘  │  └───┘  │  ┌─┴─┐┌─┴─┐┌───┐└─┬─┘┌─┴─┐└─┬─┘┌───┐     └─┬─┘┌─┴─┐  │  ┌─┴─┐└─┬─┘  │  ┌───┐└─┬─┘┌─┴─┐  │              ┌─┴─┐     └─┬─┘       │       └──────────┘┌─┴─┐└───┘┌─┴─┐└───┘  │    │  └───┘  │    │  ┌─┴─┐┌─┴─┐       │    │  └───┘  │    │  ┌─┴─┐┌─┴─┐┌───┐└─┬─┘┌─┴─┐└─┬─┘┌─┴─┐└───┘┌─┴─┐└───┘  │    │  └───┘  │    │  ┌─┴─┐┌─┴─┐       │    │  └───┘  │  └───┘  │  ┌─┴─┐┌─┴─┐┌───┐└─┬─┘┌─┴─┐└─┬─┘┌───┐     └─┬─┘┌─┴─┐  │  ┌─┴─┐└─┬─┘  │  ┌───┐└─┬─┘┌─┴─┐  │       ┌─┴─┐           └─┬─┘  │       └───┘└─────────┘\n",
       "q_3: ┤ H ├┤ X ├┤ Rz(-π/4) ├┤ X ├┤ Rz(π/4) ├┤ X ├┤ Rz(-π/4) ├┤ X ├┤ Rz(π/4) ├┤ H ├┤ X ├┤ X ├──■────■─────────■────■──┤ X ├┤ X ├───────■────■─────────■────■──┤ X ├┤ X ├┤ X ├──■──┤ X ├──■──┤ X ├─────┤ X ├───────■────■─────────■────■──┤ X ├┤ X ├───────■────■─────────■─────────■──┤ X ├┤ X ├┤ X ├──■──┤ X ├──■──┤ X ├───────■──┤ X ├──■──┤ X ├──■────■──┤ X ├──■──┤ X ├──■──────────────┤ X ├───────■─────────■───────────────────┤ X ├─────┤ X ├───────■────■─────────■────■──┤ X ├┤ X ├───────■────■─────────■────■──┤ X ├┤ X ├┤ X ├──■──┤ X ├──■──┤ X ├─────┤ X ├───────■────■─────────■────■──┤ X ├┤ X ├───────■────■─────────■─────────■──┤ X ├┤ X ├┤ X ├──■──┤ X ├──■──┤ X ├───────■──┤ X ├──■──┤ X ├──■────■──┤ X ├──■──┤ X ├──■───────┤ X ├─────────────■────■───────────────────────\n",
       "     └───┘└───┘└──────────┘└───┘└─────────┘└───┘└──────────┘└───┘└─────────┘└───┘└───┘└───┘                         └───┘└───┘                              └───┘└───┘└───┘     └───┘     └───┘     └───┘                              └───┘└───┘                                   └───┘└───┘└───┘     └───┘     └───┘          └───┘     └───┘          └───┘     └───┘                 └───┘                                     └───┘     └───┘                              └───┘└───┘                              └───┘└───┘└───┘     └───┘     └───┘     └───┘                              └───┘└───┘                                   └───┘└───┘└───┘     └───┘     └───┘          └───┘     └───┘          └───┘     └───┘          └───┘                                          </pre>"
      ],
      "text/plain": [
       "                                                                                           ┌───┐               ┌───┐               ┌───┐               ┌───┐                                                  ┌───┐               ┌───┐               ┌───┐                    ┌───┐                              ┌───┐┌───┐                         ┌───┐┌───┐                                               ┌───┐┌───┐   ┌───┐                        ┌───┐               ┌───┐               ┌───┐               ┌───┐                                                  ┌───┐               ┌───┐               ┌───┐                    ┌───┐                              ┌───┐┌───┐                         ┌───┐┌───┐                                         ┌───┐┌───┐┌───┐┌─────────┐\n",
       "q_0: ───────■────────────────────────────────■─────────────────────────────────────■────■──┤ X ├──■─────────■──┤ X ├───────■───────┤ X ├──■─────────■──┤ X ├───────■──────────────■─────────■─────────■───────┤ X ├──■─────────■──┤ X ├───────■───────┤ X ├──■─────────■───────┤ X ├───────■──────────────■───────┤ X ├┤ X ├──■────■─────────■────■──┤ X ├┤ X ├──■────■─────────────────────■─────────■───────┤ X ├┤ X ├───┤ X ├──────■─────────■───────┤ X ├──■─────────■──┤ X ├───────■───────┤ X ├──■─────────■──┤ X ├───────■──────────────■─────────■─────────■───────┤ X ├──■─────────■──┤ X ├───────■───────┤ X ├──■─────────■───────┤ X ├───────■──────────────■───────┤ X ├┤ X ├──■────■─────────■────■──┤ X ├┤ X ├──■────■──────────────■───────────────■──┤ X ├┤ X ├┤ X ├┤ Rz(π/8) ├\n",
       "            │                                │     ┌───┐                           │    │  └─┬─┘┌─┴─┐     ┌─┴─┐└─┬─┘       │  ┌───┐└─┬─┘┌─┴─┐     ┌─┴─┐└─┬─┘       │              │  ┌───┐  │         │       └─┬─┘┌─┴─┐     ┌─┴─┐└─┬─┘       │  ┌───┐└─┬─┘┌─┴─┐     ┌─┴─┐     └─┬─┘       │              │  ┌───┐└─┬─┘└─┬─┘  │    │  ┌───┐  │    │  └─┬─┘└─┬─┘  │    │  ┌───┐┌──────────┐  │  ┌───┐  │  ┌───┐└─┬─┘└─┬─┘   └───┘      │         │       └─┬─┘┌─┴─┐     ┌─┴─┐└─┬─┘       │  ┌───┐└─┬─┘┌─┴─┐     ┌─┴─┐└─┬─┘       │              │  ┌───┐  │         │       └─┬─┘┌─┴─┐     ┌─┴─┐└─┬─┘       │  ┌───┐└─┬─┘┌─┴─┐     ┌─┴─┐     └─┬─┘       │              │  ┌───┐└─┬─┘└─┬─┘  │    │  ┌───┐  │    │  └─┬─┘└─┬─┘  │    │  ┌───┐┌───┐  │  ┌─────────┐  │  └─┬─┘└─┬─┘└───┘└─────────┘\n",
       "q_1: ───────■────────────────────────────────■─────┤ X ├───────────────────────────┼────┼────■──┤ X ├──■──┤ X ├──■────■────┼──┤ X ├──■──┤ X ├──■──┤ X ├──■────■────┼──────────────■──┤ X ├──┼─────────┼─────────■──┤ X ├──■──┤ X ├──■────■────┼──┤ X ├──■──┤ X ├──■──┤ X ├───────■────■────┼──────────────■──┤ X ├──┼────┼────┼────┼──┤ X ├──┼────┼────┼────┼────┼────┼──┤ X ├┤ Rz(-π/8) ├──┼──┤ X ├──┼──┤ X ├──┼────┼────────────────┼─────────┼─────────■──┤ X ├──■──┤ X ├──■────■────┼──┤ X ├──■──┤ X ├──■──┤ X ├──■────■────┼──────────────■──┤ X ├──┼─────────┼─────────■──┤ X ├──■──┤ X ├──■────■────┼──┤ X ├──■──┤ X ├──■──┤ X ├───────■────■────┼──────────────■──┤ X ├──┼────┼────┼────┼──┤ X ├──┼────┼────┼────┼────┼────┼──┤ X ├┤ X ├──┼──┤ Rz(π/8) ├──┼────┼────┼──────────────────\n",
       "            │                                │     └───┘            ┌───┐          │    │    │  └─┬─┘┌─┴─┐└─┬─┘  │    │    │  └───┘  │  └─┬─┘┌─┴─┐└─┬─┘  │    │    │       ┌───┐  │  ├───┤  │  ┌───┐  │  ┌───┐  │  └─┬─┘┌─┴─┐└─┬─┘  │    │    │  └───┘  │  └─┬─┘┌─┴─┐└─┬─┘┌───┐  │    │    │       ┌───┐  │  ├───┤  │    │  ┌─┴─┐  │  └─┬─┘  │  ┌─┴─┐  │    │  ┌─┴─┐  │  └─┬─┘└──────────┘  │  └───┘┌─┴─┐└───┘  │    │  ┌──────────┐  │  ┌───┐  │  ┌───┐  │  └─┬─┘┌─┴─┐└─┬─┘  │    │    │  └───┘  │  └─┬─┘┌─┴─┐└─┬─┘  │    │    │       ┌───┐  │  ├───┤  │  ┌───┐  │  ┌───┐  │  └─┬─┘┌─┴─┐└─┬─┘  │    │    │  └───┘  │  └─┬─┘┌─┴─┐└─┬─┘┌───┐  │    │    │       ┌───┐  │  ├───┤  │    │  ┌─┴─┐  │  └─┬─┘  │  ┌─┴─┐  │    │  ┌─┴─┐  │  └─┬─┘└───┘  │  └─────────┘┌─┴─┐  │    │  ┌───┐┌─────────┐\n",
       "q_2: ───────┼────────────────■───────────────┼────────────────■─────┤ X ├──────────┼────┼────┼────┼──┤ X ├──┼────┼────┼────┼─────────┼────┼──┤ X ├──┼────┼────┼────┼───────┤ X ├──┼──┤ X ├──┼──┤ X ├──┼──┤ X ├──┼────┼──┤ X ├──┼────┼────┼────┼─────────┼────┼──┤ X ├──┼──┤ X ├──┼────┼────┼───────┤ X ├──┼──┤ X ├──■────■──┤ X ├──■────┼────■──┤ X ├──┼────■──┤ X ├──■────┼────────────────■───────┤ X ├───────┼────■──┤ Rz(-π/4) ├──┼──┤ X ├──┼──┤ X ├──┼────┼──┤ X ├──┼────┼────┼────┼─────────┼────┼──┤ X ├──┼────┼────┼────┼───────┤ X ├──┼──┤ X ├──┼──┤ X ├──┼──┤ X ├──┼────┼──┤ X ├──┼────┼────┼────┼─────────┼────┼──┤ X ├──┼──┤ X ├──┼────┼────┼───────┤ X ├──┼──┤ X ├──■────■──┤ X ├──■────┼────■──┤ X ├──┼────■──┤ X ├──■────┼─────────■─────────────┤ X ├──┼────■──┤ X ├┤ Rz(π/4) ├\n",
       "     ┌───┐┌─┴─┐┌──────────┐┌─┴─┐┌─────────┐┌─┴─┐┌──────────┐┌─┴─┐┌──┴───┴──┐┌───┐┌─┴─┐┌─┴─┐  │    │  └───┘  │    │  ┌─┴─┐┌─┴─┐       │    │  └───┘  │    │  ┌─┴─┐┌─┴─┐┌───┐└─┬─┘┌─┴─┐└─┬─┘┌─┴─┐└───┘┌─┴─┐└───┘  │    │  └───┘  │    │  ┌─┴─┐┌─┴─┐       │    │  └───┘  │  └───┘  │  ┌─┴─┐┌─┴─┐┌───┐└─┬─┘┌─┴─┐└─┬─┘┌───┐     └─┬─┘┌─┴─┐  │  ┌─┴─┐└─┬─┘  │  ┌───┐└─┬─┘┌─┴─┐  │              ┌─┴─┐     └─┬─┘       │       └──────────┘┌─┴─┐└───┘┌─┴─┐└───┘  │    │  └───┘  │    │  ┌─┴─┐┌─┴─┐       │    │  └───┘  │    │  ┌─┴─┐┌─┴─┐┌───┐└─┬─┘┌─┴─┐└─┬─┘┌─┴─┐└───┘┌─┴─┐└───┘  │    │  └───┘  │    │  ┌─┴─┐┌─┴─┐       │    │  └───┘  │  └───┘  │  ┌─┴─┐┌─┴─┐┌───┐└─┬─┘┌─┴─┐└─┬─┘┌───┐     └─┬─┘┌─┴─┐  │  ┌─┴─┐└─┬─┘  │  ┌───┐└─┬─┘┌─┴─┐  │       ┌─┴─┐           └─┬─┘  │       └───┘└─────────┘\n",
       "q_3: ┤ H ├┤ X ├┤ Rz(-π/4) ├┤ X ├┤ Rz(π/4) ├┤ X ├┤ Rz(-π/4) ├┤ X ├┤ Rz(π/4) ├┤ H ├┤ X ├┤ X ├──■────■─────────■────■──┤ X ├┤ X ├───────■────■─────────■────■──┤ X ├┤ X ├┤ X ├──■──┤ X ├──■──┤ X ├─────┤ X ├───────■────■─────────■────■──┤ X ├┤ X ├───────■────■─────────■─────────■──┤ X ├┤ X ├┤ X ├──■──┤ X ├──■──┤ X ├───────■──┤ X ├──■──┤ X ├──■────■──┤ X ├──■──┤ X ├──■──────────────┤ X ├───────■─────────■───────────────────┤ X ├─────┤ X ├───────■────■─────────■────■──┤ X ├┤ X ├───────■────■─────────■────■──┤ X ├┤ X ├┤ X ├──■──┤ X ├──■──┤ X ├─────┤ X ├───────■────■─────────■────■──┤ X ├┤ X ├───────■────■─────────■─────────■──┤ X ├┤ X ├┤ X ├──■──┤ X ├──■──┤ X ├───────■──┤ X ├──■──┤ X ├──■────■──┤ X ├──■──┤ X ├──■───────┤ X ├─────────────■────■───────────────────────\n",
       "     └───┘└───┘└──────────┘└───┘└─────────┘└───┘└──────────┘└───┘└─────────┘└───┘└───┘└───┘                         └───┘└───┘                              └───┘└───┘└───┘     └───┘     └───┘     └───┘                              └───┘└───┘                                   └───┘└───┘└───┘     └───┘     └───┘          └───┘     └───┘          └───┘     └───┘                 └───┘                                     └───┘     └───┘                              └───┘└───┘                              └───┘└───┘└───┘     └───┘     └───┘     └───┘                              └───┘└───┘                                   └───┘└───┘└───┘     └───┘     └───┘          └───┘     └───┘          └───┘     └───┘          └───┘                                          "
      ]
     },
     "metadata": {},
     "output_type": "display_data"
    }
   ],
   "source": [
    "# 3-Control NOT decomposition (without ancilla)\n",
    "# Do not use for this question\n",
    "# Circuit from https://github.com/jmbaker94/quantumcircuitbenchmarks/blob/master/quantumcircuitbenchmarks/qiskit/cnx_inplace.py\n",
    "c3x_0a_c = QuantumCircuit.from_qasm_str('OPENQASM 2.0;\\ninclude \"qelib1.inc\";\\n\\n\\n// Qubits: [0, 1, 2, 3]\\nqreg q[4];\\n\\n\\nh q[3];\\nccx q[0],q[1],q[3];\\nrz(pi*-0.25) q[3];\\ncx q[2],q[3];\\nrz(pi*0.25) q[3];\\nccx q[0],q[1],q[3];\\nrz(pi*-0.25) q[3];\\nx q[1];\\ncx q[2],q[3];\\nrz(pi*0.25) q[3];\\nx q[2];\\nh q[3];\\ncx q[0],q[3];\\ncx q[0],q[3];\\nccx q[1],q[3],q[0];\\nccx q[0],q[3],q[1];\\ncx q[1],q[2];\\nccx q[0],q[3],q[1];\\nccx q[1],q[3],q[0];\\ncx q[1],q[3];\\nx q[1];\\ncx q[0],q[3];\\nccx q[1],q[3],q[0];\\nccx q[0],q[3],q[1];\\ncx q[1],q[2];\\nccx q[0],q[3],q[1];\\nccx q[1],q[3],q[0];\\ncx q[1],q[3];\\ncx q[0],q[3];\\nx q[3];\\ncx q[3],q[2];\\nccx q[0],q[1],q[3];\\ncx q[3],q[2];\\nx q[1];\\nx q[2];\\ncx q[0],q[3];\\nx q[2];\\ncx q[0],q[3];\\nccx q[1],q[3],q[0];\\nccx q[0],q[3],q[1];\\ncx q[1],q[2];\\nccx q[0],q[3],q[1];\\nccx q[1],q[3],q[0];\\ncx q[1],q[3];\\nx q[1];\\ncx q[0],q[3];\\nccx q[1],q[3],q[0];\\nccx q[0],q[3],q[1];\\ncx q[1],q[2];\\nccx q[0],q[3],q[1];\\nx q[2];\\nccx q[1],q[3],q[0];\\ncx q[1],q[3];\\ncx q[0],q[3];\\nx q[3];\\ncx q[3],q[2];\\nccx q[0],q[1],q[3];\\ncx q[3],q[2];\\nx q[1];\\ncx q[2],q[0];\\nx q[3];\\ncx q[2],q[0];\\nccx q[3],q[0],q[2];\\nccx q[2],q[0],q[3];\\ncx q[3],q[1];\\nccx q[2],q[0],q[3];\\nccx q[3],q[0],q[2];\\ncx q[3],q[0];\\nx q[3];\\ncx q[2],q[0];\\nccx q[3],q[0],q[2];\\nccx q[2],q[0],q[3];\\ncx q[3],q[1];\\nccx q[2],q[0],q[3];\\nrz(pi*-0.125) q[1];\\nccx q[3],q[0],q[2];\\nx q[1];\\ncx q[3],q[0];\\nx q[1];\\ncx q[2],q[0];\\nrz(pi*-0.25) q[2];\\nx q[0];\\nx q[2];\\ncx q[0],q[3];\\nx q[2];\\ncx q[0],q[3];\\nccx q[1],q[3],q[0];\\nccx q[0],q[3],q[1];\\ncx q[1],q[2];\\nccx q[0],q[3],q[1];\\nccx q[1],q[3],q[0];\\ncx q[1],q[3];\\nx q[1];\\ncx q[0],q[3];\\nccx q[1],q[3],q[0];\\nccx q[0],q[3],q[1];\\ncx q[1],q[2];\\nccx q[0],q[3],q[1];\\nccx q[1],q[3],q[0];\\ncx q[1],q[3];\\ncx q[0],q[3];\\nx q[3];\\ncx q[3],q[2];\\nccx q[0],q[1],q[3];\\ncx q[3],q[2];\\nx q[1];\\nx q[2];\\ncx q[0],q[3];\\nx q[2];\\ncx q[0],q[3];\\nccx q[1],q[3],q[0];\\nccx q[0],q[3],q[1];\\ncx q[1],q[2];\\nccx q[0],q[3],q[1];\\nccx q[1],q[3],q[0];\\ncx q[1],q[3];\\nx q[1];\\ncx q[0],q[3];\\nccx q[1],q[3],q[0];\\nccx q[0],q[3],q[1];\\ncx q[1],q[2];\\nccx q[0],q[3],q[1];\\nx q[2];\\nccx q[1],q[3],q[0];\\ncx q[1],q[3];\\ncx q[0],q[3];\\nx q[3];\\ncx q[3],q[2];\\nccx q[0],q[1],q[3];\\ncx q[3],q[2];\\nx q[1];\\ncx q[2],q[0];\\nx q[3];\\ncx q[2],q[0];\\nccx q[3],q[0],q[2];\\nccx q[2],q[0],q[3];\\ncx q[3],q[1];\\nccx q[2],q[0],q[3];\\nccx q[3],q[0],q[2];\\ncx q[3],q[0];\\nx q[3];\\ncx q[2],q[0];\\nccx q[3],q[0],q[2];\\nccx q[2],q[0],q[3];\\ncx q[3],q[1];\\nccx q[2],q[0],q[3];\\nx q[1];\\nccx q[3],q[0],q[2];\\nrz(pi*0.125) q[1];\\ncx q[3],q[0];\\ncx q[2],q[0];\\nx q[0];\\nx q[2];\\nrz(pi*0.25) q[2];\\nrz(pi*0.125) q[0];\\n')\n",
    "print('C3X decomposition (no ancilla):')\n",
    "display(c3x_0a_c.draw(fold=-1))\n",
    "\n",
    "# This is the unitary matrix for C3X (a 4-qubit gate)\n",
    "# The value is an idententy matrix except for the entries\n",
    "# corresponding to |1110> and |1111>.\n",
    "c3x_0a_unitary = qiskit.quantum_info.Operator(c3x_0a_c).data"
   ]
  },
  {
   "cell_type": "code",
   "execution_count": 31,
   "id": "western-complement",
   "metadata": {},
   "outputs": [
    {
     "name": "stdout",
     "output_type": "stream",
     "text": [
      "C3X decomposition (one ancilla):\n"
     ]
    },
    {
     "data": {
      "text/html": [
       "<pre style=\"word-wrap: normal;white-space: pre;background: #fff0;line-height: 1.1;font-family: &quot;Courier New&quot;,Courier,monospace\">                          \n",
       "control_0: ──■─────────■──\n",
       "             │         │  \n",
       "control_1: ──■─────────■──\n",
       "             │         │  \n",
       "control_2: ──┼────■────┼──\n",
       "             │  ┌─┴─┐  │  \n",
       "   target: ──┼──┤ X ├──┼──\n",
       "           ┌─┴─┐└─┬─┘┌─┴─┐\n",
       "  ancilla: ┤ X ├──■──┤ X ├\n",
       "           └───┘     └───┘</pre>"
      ],
      "text/plain": [
       "                          \n",
       "control_0: ──■─────────■──\n",
       "             │         │  \n",
       "control_1: ──■─────────■──\n",
       "             │         │  \n",
       "control_2: ──┼────■────┼──\n",
       "             │  ┌─┴─┐  │  \n",
       "   target: ──┼──┤ X ├──┼──\n",
       "           ┌─┴─┐└─┬─┘┌─┴─┐\n",
       "  ancilla: ┤ X ├──■──┤ X ├\n",
       "           └───┘     └───┘"
      ]
     },
     "metadata": {},
     "output_type": "display_data"
    }
   ],
   "source": [
    "# 3-Control NOT decomposition (with one ancilla)\n",
    "controls = QuantumRegister(3, 'control')\n",
    "target = QuantumRegister(1, 'target')\n",
    "ancilla = QuantumRegister(1, 'ancilla')\n",
    "c3x_1a_c = QuantumCircuit(controls, target, ancilla)\n",
    "c3x_1a_c.ccx(controls[0], controls[1], ancilla[0])\n",
    "c3x_1a_c.ccx(controls[2], ancilla[0], target[0])\n",
    "c3x_1a_c.ccx(controls[0], controls[1], ancilla[0])\n",
    "print('C3X decomposition (one ancilla):')\n",
    "display(c3x_1a_c.draw(fold=-1))\n",
    "\n",
    "# This is the unitary matrix for C3X (a 4-qubit gate)\n",
    "# The value is an idententy matrix except for the entries\n",
    "# corresponding to |11100> and |11110>.\n",
    "# Ignore the entries |xxxx1> where the ancilla is initially a 1.\n",
    "c3x_1a_unitary = qiskit.quantum_info.Operator(c3x_1a_c).data\n",
    "\n",
    "toffolis_per_c3x = 3"
   ]
  },
  {
   "cell_type": "code",
   "execution_count": 32,
   "id": "another-dryer",
   "metadata": {},
   "outputs": [
    {
     "name": "stdout",
     "output_type": "stream",
     "text": [
      "Toffoli (8 CNOT decomposition):\n"
     ]
    },
    {
     "data": {
      "text/html": [
       "<pre style=\"word-wrap: normal;white-space: pre;background: #fff0;line-height: 1.1;font-family: &quot;Courier New&quot;,Courier,monospace\">     ┌───┐                                                      \n",
       "q_0: ┤ T ├──■─────────■──────────■─────────────────■────────────\n",
       "     ├───┤┌─┴─┐     ┌─┴─┐      ┌─┴─┐      ┌─────┐┌─┴─┐          \n",
       "q_1: ┤ T ├┤ X ├──■──┤ X ├──■───┤ X ├───■──┤ Tdg ├┤ X ├──■───────\n",
       "     ├───┤├───┤┌─┴─┐├───┤┌─┴─┐┌┴───┴┐┌─┴─┐├─────┤└───┘┌─┴─┐┌───┐\n",
       "q_2: ┤ H ├┤ T ├┤ X ├┤ T ├┤ X ├┤ Tdg ├┤ X ├┤ Tdg ├─────┤ X ├┤ H ├\n",
       "     └───┘└───┘└───┘└───┘└───┘└─────┘└───┘└─────┘     └───┘└───┘</pre>"
      ],
      "text/plain": [
       "     ┌───┐                                                      \n",
       "q_0: ┤ T ├──■─────────■──────────■─────────────────■────────────\n",
       "     ├───┤┌─┴─┐     ┌─┴─┐      ┌─┴─┐      ┌─────┐┌─┴─┐          \n",
       "q_1: ┤ T ├┤ X ├──■──┤ X ├──■───┤ X ├───■──┤ Tdg ├┤ X ├──■───────\n",
       "     ├───┤├───┤┌─┴─┐├───┤┌─┴─┐┌┴───┴┐┌─┴─┐├─────┤└───┘┌─┴─┐┌───┐\n",
       "q_2: ┤ H ├┤ T ├┤ X ├┤ T ├┤ X ├┤ Tdg ├┤ X ├┤ Tdg ├─────┤ X ├┤ H ├\n",
       "     └───┘└───┘└───┘└───┘└───┘└─────┘└───┘└─────┘     └───┘└───┘"
      ]
     },
     "metadata": {},
     "output_type": "display_data"
    }
   ],
   "source": [
    "# The 8-CNOT Toffoli decomposition (again)\n",
    "toffoli8cx_c = QuantumCircuit.from_qasm_str('OPENQASM 2.0;\\ninclude \"qelib1.inc\";\\nqreg q[3];\\nh q[2];\\nt q[0];\\nt q[1];\\nt q[2];\\ncx q[0],q[1];\\ncx q[1],q[2];\\nt q[2];\\ncx q[0],q[1];\\ncx q[1],q[2];\\ntdg q[2];\\ncx q[0],q[1];\\ncx q[1],q[2];\\ntdg q[1];\\ntdg q[2];\\ncx q[0],q[1];\\ncx q[1],q[2];\\nh q[2];\\n')\n",
    "print('Toffoli (8 CNOT decomposition):')\n",
    "display(toffoli8cx_c.draw(fold=-1))\n",
    "\n",
    "cnots_per_toffoli = 8"
   ]
  },
  {
   "cell_type": "code",
   "execution_count": 33,
   "id": "characteristic-phrase",
   "metadata": {},
   "outputs": [],
   "source": [
    "# Intermediate calculation for your answer\n",
    "cnots_per_c3x = 24"
   ]
  },
  {
   "cell_type": "code",
   "execution_count": 34,
   "id": "outstanding-cancer",
   "metadata": {},
   "outputs": [
    {
     "name": "stdout",
     "output_type": "stream",
     "text": [
      "Your answer from problem 1.1 again:\n",
      "6 single-qubit (X), 16 CNOT, and 6 Toffoli gates in the Cuccaro adder (without a control qubit)\n"
     ]
    }
   ],
   "source": [
    "print('Your answer from problem 1.1 again:')\n",
    "print(f'{count_x_1} single-qubit (X), {count_cnot_1} CNOT, '\n",
    "      f'and {count_toffoli_1} Toffoli gates in the Cuccaro adder '\n",
    "      '(without a control qubit)')"
   ]
  },
  {
   "cell_type": "code",
   "execution_count": 35,
   "id": "compact-entrance",
   "metadata": {
    "deletable": false,
    "nbgrader": {
     "cell_type": "code",
     "checksum": "6319c216a818e1e91b1101fdb0fdc02f",
     "grade": false,
     "grade_id": "2-1",
     "locked": false,
     "schema_version": 3,
     "solution": true,
     "task": false
    }
   },
   "outputs": [
    {
     "name": "stdout",
     "output_type": "stream",
     "text": [
      "Many single-qubit and 278 CNOT gates\n"
     ]
    }
   ],
   "source": [
    "# Answer the number of CNOT gates here\n",
    "count_cnot_4 = count_x_1 + count_cnot_1*8 + count_toffoli_1*cnots_per_c3x\n",
    "# YOUR CODE HERE\n",
    "\n",
    "print(f'Many single-qubit and {count_cnot_4} CNOT gates')"
   ]
  },
  {
   "cell_type": "code",
   "execution_count": 36,
   "id": "unexpected-modem",
   "metadata": {
    "deletable": false,
    "editable": false,
    "nbgrader": {
     "cell_type": "code",
     "checksum": "03607cb5b1fda02369f309b6865842fb",
     "grade": true,
     "grade_id": "2-1-test",
     "locked": true,
     "points": 10,
     "schema_version": 3,
     "solution": false,
     "task": false
    }
   },
   "outputs": [
    {
     "name": "stdout",
     "output_type": "stream",
     "text": [
      "PASS\n"
     ]
    }
   ],
   "source": [
    "# Do not delete this cell\n",
    "# The autograder will test the value stored in `count_cnot_4`.\n",
    "assert 0 <= count_cnot_4 <= 999, 'count_cnot_4 must be an integer in this range'\n",
    "# Rejects most incorrect answers without giving away the correct answer\n",
    "assert count_cnot_4 % 46 == 2, 'Incorrect answer'\n",
    "# Hidden test\n",
    "print('PASS')"
   ]
  },
  {
   "cell_type": "markdown",
   "id": "organizational-evolution",
   "metadata": {},
   "source": [
    "# 2.2. Multi-Controlled Not Gate (continue)\n",
    "\n",
    "How many ancilla did you use in that last decomposition (problem 2.1)?  Each C3X gate needs one ancilla but they can share ancilla if one C3X gate is finished before another C3X gate starts.  Count the maximum and minimum possible number of ancilla a compiler could choose to use.  Assume the compiler only knows the decomposition shown above that contains 6 C3X gates.  The min and max will depend on how the compiler schedules the gates to share resources."
   ]
  },
  {
   "cell_type": "code",
   "execution_count": 37,
   "id": "directed-burke",
   "metadata": {
    "deletable": false,
    "nbgrader": {
     "cell_type": "code",
     "checksum": "a58d8392e74e483b8c2b90b0b9ec73df",
     "grade": false,
     "grade_id": "2-2",
     "locked": false,
     "schema_version": 3,
     "solution": true,
     "task": false
    }
   },
   "outputs": [
    {
     "name": "stdout",
     "output_type": "stream",
     "text": [
      "The number of ancilla used is: 1 <= n <= 6\n",
      "The total number of qubits used is: 9 <= n <= 14\n"
     ]
    }
   ],
   "source": [
    "# For problem 2.2, assume 6 C3X gates were used\n",
    "count_c3x_5 = 6\n",
    "\n",
    "# Enter the *minimum* number of ancilla that could be used\n",
    "count_ancilla_min_5 = 1\n",
    "# YOUR CODE HERE\n",
    "\n",
    "# Enter the *maximum* number of ancilla that could be used\n",
    "count_ancilla_max_5 = count_toffoli_1\n",
    "# YOUR CODE HERE\n",
    "\n",
    "print('The number of ancilla used is: '\n",
    "      f'{count_ancilla_min_5} <= n <= {count_ancilla_max_5}')\n",
    "print('The total number of qubits used is: '\n",
    "      f'{8+count_ancilla_min_5} <= n <= {8+count_ancilla_max_5}')"
   ]
  },
  {
   "cell_type": "code",
   "execution_count": 38,
   "id": "coated-brake",
   "metadata": {
    "deletable": false,
    "editable": false,
    "nbgrader": {
     "cell_type": "code",
     "checksum": "97c5ec9609edc9bae60ae88582bf40cf",
     "grade": true,
     "grade_id": "2-2a-test",
     "locked": true,
     "points": 5,
     "schema_version": 3,
     "solution": false,
     "task": false
    }
   },
   "outputs": [
    {
     "name": "stdout",
     "output_type": "stream",
     "text": [
      "PASS\n"
     ]
    }
   ],
   "source": [
    "# Do not delete this cell\n",
    "# The autograder will test the value stored in `count_ancilla_min_5`.\n",
    "assert 0 <= count_ancilla_min_5 <= 20, 'count_ancilla_min_5 must be an integer in this range'\n",
    "assert count_ancilla_min_5 <= count_ancilla_max_5, 'min must be <= max'\n",
    "print('PASS')"
   ]
  },
  {
   "cell_type": "code",
   "execution_count": 39,
   "id": "approved-wisdom",
   "metadata": {
    "deletable": false,
    "editable": false,
    "nbgrader": {
     "cell_type": "code",
     "checksum": "998feb8c3aff37afa0550a6c439921f7",
     "grade": true,
     "grade_id": "2-2b-test",
     "locked": true,
     "points": 5,
     "schema_version": 3,
     "solution": false,
     "task": false
    }
   },
   "outputs": [
    {
     "name": "stdout",
     "output_type": "stream",
     "text": [
      "PASS\n"
     ]
    }
   ],
   "source": [
    "## Do not delete this cell\n",
    "# The autograder will test the value stored in `count_ancilla_max_5`.\n",
    "assert 0 <= count_ancilla_max_5 <= 20, 'count_ancilla_max_5 must be an integer in this range'\n",
    "print('PASS')"
   ]
  }
 ],
 "metadata": {
  "@webio": {
   "lastCommId": null,
   "lastKernelId": null
  },
  "kernelspec": {
   "display_name": "Python 3 (ipykernel)",
   "language": "python",
   "name": "python3"
  },
  "language_info": {
   "codemirror_mode": {
    "name": "ipython",
    "version": 3
   },
   "file_extension": ".py",
   "mimetype": "text/x-python",
   "name": "python",
   "nbconvert_exporter": "python",
   "pygments_lexer": "ipython3",
   "version": "3.7.11"
  }
 },
 "nbformat": 4,
 "nbformat_minor": 5
}
